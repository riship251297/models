{
  "cells": [
    {
      "cell_type": "code",
      "execution_count": null,
      "metadata": {
        "id": "0YrOMoqsm_LC"
      },
      "outputs": [],
      "source": [
        "!unzip /content/drive/MyDrive/all_files.zip \n"
      ]
    },
    {
      "cell_type": "code",
      "execution_count": null,
      "metadata": {
        "id": "qswvSR-vntJb"
      },
      "outputs": [],
      "source": [
        "mkdir /content/home/rishi"
      ]
    },
    {
      "cell_type": "code",
      "execution_count": null,
      "metadata": {
        "id": "f8UqUdvintMu"
      },
      "outputs": [],
      "source": [
        "mkdir /content/home/rphatan/new_numpy_files"
      ]
    },
    {
      "cell_type": "code",
      "execution_count": null,
      "metadata": {
        "id": "QZD_UvZFntPo"
      },
      "outputs": [],
      "source": [
        "mkdir /content/home/rphatan/new_numpy_files/face_cut"
      ]
    },
    {
      "cell_type": "code",
      "execution_count": null,
      "metadata": {
        "id": "30jm2JHNntSv"
      },
      "outputs": [],
      "source": [
        "mkdir /content/home/rphatan/new_numpy_files/face_cut/numpy_files"
      ]
    },
    {
      "cell_type": "code",
      "execution_count": null,
      "metadata": {
        "id": "tAiCvORHntWG"
      },
      "outputs": [],
      "source": []
    },
    {
      "cell_type": "code",
      "execution_count": null,
      "metadata": {
        "id": "0KR8rFYCEaLk"
      },
      "outputs": [],
      "source": [
        "rm -r /content/home/rphatan/new_numpy_files/face_cut/"
      ]
    },
    {
      "cell_type": "code",
      "execution_count": null,
      "metadata": {
        "id": "TOFtiD31EaN4"
      },
      "outputs": [],
      "source": []
    },
    {
      "cell_type": "code",
      "execution_count": null,
      "metadata": {
        "id": "lrrsDWUcEaPy"
      },
      "outputs": [],
      "source": []
    },
    {
      "cell_type": "code",
      "execution_count": null,
      "metadata": {
        "id": "gP9k5kZTHhkv"
      },
      "outputs": [],
      "source": [
        "from keras.models import load_model\n",
        "model = load_model('/content/home/rphatan/new_numpy_files/face_cut/49model.h5')"
      ]
    },
    {
      "cell_type": "code",
      "execution_count": null,
      "metadata": {
        "id": "SV9t9daWtwap"
      },
      "outputs": [],
      "source": [
        "import cv2"
      ]
    },
    {
      "cell_type": "code",
      "execution_count": null,
      "metadata": {
        "id": "Qbi5-Wc2twcm"
      },
      "outputs": [],
      "source": [
        "width=128\n",
        "height=128\n",
        "img = cv2.imread('/content/home/rphatan/all_files/IXI013-HH-1212-T1_bet_7.png', 0)\n",
        "dim = (width, height)\n",
        "resized = cv2.resize(img, dim, interpolation = cv2.INTER_AREA)\n",
        "new_resized = np.resize(resized,(1, width,height,1))"
      ]
    },
    {
      "cell_type": "markdown",
      "metadata": {
        "id": "HhoCtYs-u03_"
      },
      "source": []
    },
    {
      "cell_type": "code",
      "execution_count": null,
      "metadata": {
        "colab": {
          "base_uri": "https://localhost:8080/"
        },
        "id": "zNP60BLxtwfR",
        "outputId": "9d0732f7-2977-4581-d452-1f43c81ead0e"
      },
      "outputs": [
        {
          "data": {
            "text/plain": [
              "(1, 128, 128, 1)"
            ]
          },
          "execution_count": 31,
          "metadata": {},
          "output_type": "execute_result"
        }
      ],
      "source": [
        "new_resized.shape"
      ]
    },
    {
      "cell_type": "code",
      "execution_count": null,
      "metadata": {
        "colab": {
          "base_uri": "https://localhost:8080/"
        },
        "id": "QLbmR1O4HhnF",
        "outputId": "5935c305-5e44-4da8-e69a-a6c033eaad21"
      },
      "outputs": [
        {
          "name": "stdout",
          "output_type": "stream",
          "text": [
            "Brain cut\n"
          ]
        }
      ],
      "source": [
        "a = model.predict(new_resized)\n",
        "if a > 0.5 :\n",
        "  print(\"Brain cut\")\n",
        "elif a < 0.5:\n",
        "  print(\"No brain cut\")"
      ]
    },
    {
      "cell_type": "code",
      "execution_count": null,
      "metadata": {
        "id": "euQ_niXzuxsW"
      },
      "outputs": [],
      "source": []
    },
    {
      "cell_type": "code",
      "execution_count": null,
      "metadata": {
        "id": "_glyNIat48fG"
      },
      "outputs": [],
      "source": [
        "plt.plot(np.arange(0,199),face_train_acc)\n",
        "plt.plot(np.arange(0,199),face_test_acc)\n",
        "plt.title('Model accuracy')\n",
        "plt.ylabel('Accuracy')\n",
        "plt.xlabel('Epoch')\n",
        "plt.legend(['Train', 'Test'], loc='upper left')\n",
        "plt.show()"
      ]
    },
    {
      "cell_type": "code",
      "execution_count": null,
      "metadata": {
        "colab": {
          "base_uri": "https://localhost:8080/"
        },
        "id": "Oc7brF-v48kC",
        "outputId": "43a0ed25-67cf-4d42-b2eb-5616f208f25f"
      },
      "outputs": [
        {
          "data": {
            "text/plain": [
              "array([[21,  2],\n",
              "       [ 0,  9]])"
            ]
          },
          "execution_count": 46,
          "metadata": {},
          "output_type": "execute_result"
        }
      ],
      "source": [
        "confusion_matrix"
      ]
    },
    {
      "cell_type": "code",
      "execution_count": null,
      "metadata": {
        "id": "pTgMQvkvYEqS"
      },
      "outputs": [],
      "source": [
        "print(precision_score(y_test_, np.rint(y_pred)))\n",
        "print(recall_score(y_test_, np.rint(y_pred)))\n",
        "print(f1_score(y_test_,np.rint(y_pred)))\n",
        "\n"
      ]
    },
    {
      "cell_type": "code",
      "execution_count": null,
      "metadata": {
        "id": "SeItli5EqKjV"
      },
      "outputs": [],
      "source": []
    },
    {
      "cell_type": "code",
      "execution_count": null,
      "metadata": {
        "id": "cShz7BxRUZST"
      },
      "outputs": [],
      "source": [
        "\n",
        "import pandas as pd\n",
        "import glob\n",
        "import random\n",
        "import numpy as np\n",
        "import tensorflow as tf\n",
        "from tensorflow.keras import  layers,models\n",
        "from sklearn.model_selection import KFold \n",
        "import os\n",
        "import sklearn\n",
        "from sklearn.metrics import precision_score\n",
        "from sklearn.metrics import recall_score\n",
        "from sklearn.metrics import f1_score\n",
        "%matplotlib inline\n",
        "\n",
        "import matplotlib.pyplot as plt\n",
        "\n",
        "brain_train_acc = []\n",
        "brain_test_acc = []\n",
        "train_losses = []\n",
        "test_losses = []\n",
        "\n",
        "val_loss = []\n",
        "val_acc = []\n",
        "test_acc = []\n",
        "\n",
        "\n",
        "data=pd.read_csv('/content/combined.csv')\n",
        "\n",
        "brain_votes = data['Brain-Feature-Loss'].to_list()\n",
        "\n",
        "brain_votes_results = []\n",
        "data_dir = '/content/home/rphatan/all_files'\n",
        "full_2d_data = glob.glob(data_dir +'/*.png')\n",
        "SEED = 220\n",
        "random.seed(SEED)\n",
        "random.shuffle(full_2d_data)\n",
        "\n",
        "\n",
        "for index,item in enumerate(brain_votes):\n",
        "  if brain_votes[index] == 'Yes':\n",
        "      brain_votes_results.append(1)\n",
        "  elif brain_votes[index] == 'No':\n",
        "      brain_votes_results.append(0)\n",
        "\n",
        "names = []\n",
        "for i in range(len(data)):\n",
        "    na = data['Filename'][i]\n",
        "    na = na.split('.')[0]\n",
        "    na = na + '.png'\n",
        "    names.append(na)\n",
        "    \n",
        "    \n",
        "brain_cut_dict = {}\n",
        "for cur_index,files in enumerate(names):\n",
        "    brain_cut_dict[files]=brain_votes_results[cur_index]\n",
        "\n",
        "final_list=[]\n",
        "for files in full_2d_data:\n",
        "    key_to_search = files.split('/')[-1].strip()\n",
        "    if key_to_search in brain_cut_dict:\n",
        "        final_list.append([files, brain_cut_dict[key_to_search]])\n",
        "\n",
        "k = 10\n",
        "kf = KFold(n_splits=k,shuffle= True)\n",
        "img_height = 128\n",
        "img_width = 128\n",
        "df = pd.DataFrame(final_list)\n",
        "df.columns = ['name','data']\n",
        "X = df['name']\n",
        "y = df['data']\n",
        "\n",
        "\n",
        "def build_model():\n",
        "    brain_model = models.Sequential()\n",
        "    brain_model.add(layers.Conv2D(8, (5, 5),strides = 2 ,activation='relu',padding='same', input_shape=(128, 128, 1)))\n",
        "    brain_model.add(layers.MaxPooling2D((2, 2),padding='same'))\n",
        "    brain_model.add(layers.Conv2D(16, (3, 3),strides = 2, activation='relu',padding='same'))\n",
        "    brain_model.add(layers.MaxPooling2D((2, 2),padding='same'))\n",
        "    brain_model.add(layers.Conv2D(32, (3, 3),strides = 1, activation='relu',padding='same'))\n",
        "    brain_model.add(layers.MaxPooling2D((2, 2),padding='same'))\n",
        "    \n",
        "    brain_model.add(layers.Flatten())\n",
        "    brain_model.add(layers.Dense(32, activation='relu'))\n",
        "    brain_model.add(layers.Dense(1,activation='sigmoid'))\n",
        "    opt = tf.keras.optimizers.Adam(learning_rate=0.00001)\n",
        "    brain_model.compile(optimizer=opt,\n",
        "              loss=tf.keras.losses.BinaryCrossentropy(from_logits=True),\n",
        "              metrics=['accuracy'])\n",
        "    \n",
        "    return brain_model\n",
        "\n",
        "def random_minibatch(train_files,batch_size):\n",
        "    random_indices = np.random.choice(len(train_files), batch_size)\n",
        "    return random_indices\n",
        "\n",
        "\n",
        "main = []\n",
        "val = []\n",
        "\n",
        "test_indices = np.random.choice(len(final_list), int(len(final_list) * 0.2)  , replace=False)\n",
        "testing_data = []\n",
        "\n",
        "iter = 0\n",
        "\n",
        "def model_training(train_files,validation_files,testing_data,current_k_value):\n",
        "  brain_model = 0\n",
        "\n",
        "  brain_model = build_model()\n",
        "\n",
        "  brain_train_acc = []\n",
        "  val_acc = []\n",
        "  test_acc = []\n",
        "\n",
        "  train_losses = []\n",
        "  val_loss = []\n",
        "  test_losses = []\n",
        "\n",
        "  train_p = 0 \n",
        "  test_p = 0\n",
        "\n",
        "  for epoch in range(1,21,1): # BATCH SIZE IS SET TO 64.    1648 observations are go into training and validation\n",
        "\n",
        "    for epoch_iterations in range(0,25,1):\n",
        "      print(epoch*epoch_iterations)\n",
        "\n",
        "      train_p = random_minibatch(train_files,64)\n",
        "      validation_p = random_minibatch(validation_files,64)\n",
        "      test_p = random_minibatch(test_indices,64)\n",
        "\n",
        "\n",
        "      train_data = []\n",
        "      validation_data = []\n",
        "      test_data = []\n",
        "\n",
        "      \n",
        "      for i in train_p:\n",
        "        train_data.append(train_files[i])\n",
        "\n",
        "      for i in validation_p:\n",
        "        validation_data.append(validation_files[i])\n",
        "\n",
        "      for i in test_p:\n",
        "        test_data.append(testing_data[i])\n",
        "\n",
        "      \n",
        "\n",
        "\n",
        "      for i in test_data:\n",
        "        if i in train_data:\n",
        "          print(\"present in train data\")\n",
        "        elif i in validation_data:\n",
        "          print(\"present in validation data\")\n",
        "        \n",
        "\n",
        "\n",
        "    # <----------------------------------------------------------------------------------------------------------->\n",
        "      x_train=[]\n",
        "      y_train=[]\n",
        "\n",
        "      for files in train_data:\n",
        "          image = tf.keras.preprocessing.image.load_img(files[0],color_mode = \"grayscale\",interpolation='nearest', target_size=(img_height, img_width))\n",
        "          input_arr = tf.keras.preprocessing.image.img_to_array(image)\n",
        "          x_train.append([input_arr])\n",
        "          y_train.append([files[1]])\n",
        "\n",
        "      x_train_ = 0\n",
        "      y_train_ = 0\n",
        "      x_train_ = np.reshape(np.array(x_train, dtype='float32'),(len(x_train),img_height,img_width,1))\n",
        "      y_train_ = np.array(y_train, dtype='float32')\n",
        "\n",
        "\n",
        "    # <----------------------------------------------------------------------------------------------------------->\n",
        "      x_validation=[]\n",
        "      y_validation=[]\n",
        "\n",
        "      for files in validation_data:\n",
        "          image = tf.keras.preprocessing.image.load_img(files[0],color_mode = \"grayscale\",interpolation='nearest', \n",
        "                                                        target_size=(img_height, img_width))\n",
        "          input_arr = tf.keras.preprocessing.image.img_to_array(image)\n",
        "          x_validation.append([input_arr])\n",
        "          y_validation.append([files[1]])\n",
        "\n",
        "      x_validation_ = 0\n",
        "      y_validation_ = 0\n",
        "      x_validation_ = np.reshape(np.array(x_validation, dtype='float32'),(len(x_validation),img_height,img_width,1))\n",
        "      y_validation_ = np.array(y_validation, dtype='float32')\n",
        "\n",
        "    # <----------------------------------------------------------------------------------------------------------->\n",
        "      x_test = []\n",
        "      y_test = []\n",
        "      for files in test_data:\n",
        "          image = tf.keras.preprocessing.image.load_img(files[0],color_mode = \"grayscale\",interpolation='nearest', \n",
        "                                                        target_size=(img_height, img_width))\n",
        "          input_arr = tf.keras.preprocessing.image.img_to_array(image)\n",
        "          x_test.append([input_arr])\n",
        "          y_test.append([files[1]])\n",
        "\n",
        "      x_test_ = 0\n",
        "      y_test_ = 0\n",
        "      x_test_ = np.reshape(np.array(x_test, dtype='float32'),(len(x_test),img_height,img_width,1))\n",
        "      y_test_ = np.array(y_test, dtype='float32')\n",
        "\n",
        "\n",
        "    # <----------------------------------------------------------------------------------------------------------->\n",
        "\n",
        "      train_loss, train_accuracy = brain_model.train_on_batch(x_train_, y_train_)\n",
        "      validation_loss, validation_accuracy = brain_model.test_on_batch(x_validation_,y_validation_)\n",
        "      test_loss, test_accuracy = brain_model.test_on_batch(x_test_,y_test_)\n",
        "\n",
        "  # <----------------------------------------------------------------------------------------------------------->\n",
        "\n",
        "      brain_train_acc.append(train_accuracy)\n",
        "      train_losses.append(train_loss)\n",
        "  # <----------------------------------------------------------------------------------------------------------->\n",
        "\n",
        "      val_acc.append(validation_accuracy)\n",
        "      val_loss.append(validation_loss)\n",
        "  # <----------------------------------------------------------------------------------------------------------->\n",
        "\n",
        "      test_acc.append(test_accuracy)                                                                                                                                                                                                                                                                                                                                                                                                                                                                                                                                    \n",
        "      test_losses.append(test_loss)\n",
        "  \n",
        "  brain_model.save('/content/'+ 'current_k_value' + str(iter) +'.h5')\n",
        "\n",
        "  return brain_train_acc,val_acc,test_acc\n",
        "\n",
        "\n",
        "main_train = []\n",
        "main_test = []\n",
        "main_val = []\n",
        "k_iter = 1\n",
        "\n",
        "for train_index , validation_index in kf.split(X): # k different subsets of data ::::: 1484 -- training observations ::: 164 -- testing observations\n",
        "\n",
        "  train_files = []\n",
        "  validation_files = []\n",
        "  testing_data = []\n",
        "\n",
        "\n",
        "  for i in train_index:\n",
        "    if i in test_indices:\n",
        "      pass\n",
        "    else:\n",
        "      train_files.append(final_list[i])\n",
        "  \n",
        "  for i in validation_index:\n",
        "    if i in test_indices:\n",
        "      pass\n",
        "    else:\n",
        "      validation_files.append(final_list[i])\n",
        "\n",
        "  for i in test_indices:\n",
        "    testing_data.append(final_list[i])\n",
        "\n",
        "# <----------------------------------------------------------------------------------------------------------->\n",
        "\n",
        "  model_training_acc,model_val_acc,model_testing_acc = model_training(train_files,validation_files,testing_data,k_iter)\n",
        "  main_train.append(model_training_acc)\n",
        "  main_test.append(model_testing_acc)\n",
        "  main_val.append(model_val_acc)\n",
        "\n",
        "\n",
        "  iter += 1\n",
        "  \n",
        "\n",
        "      "
      ]
    },
    {
      "cell_type": "code",
      "execution_count": null,
      "metadata": {
        "id": "8NG5ZpYrqKrS"
      },
      "outputs": [],
      "source": [
        "testing_data = []\n",
        "for i in test_indices:\n",
        "  testing_data.append(final_list[i])"
      ]
    },
    {
      "cell_type": "code",
      "execution_count": null,
      "metadata": {
        "id": "U33G8ki-qKtz"
      },
      "outputs": [],
      "source": []
    },
    {
      "cell_type": "code",
      "execution_count": null,
      "metadata": {
        "id": "pb5eAqJvTQe-"
      },
      "outputs": [],
      "source": [
        "\n",
        "x_t = []\n",
        "y_t = []\n",
        "for files in testing_data:\n",
        "    image = tf.keras.preprocessing.image.load_img(files[0],color_mode = \"grayscale\",interpolation='nearest', \n",
        "                                                  target_size=(img_height, img_width))\n",
        "    input_arr = tf.keras.preprocessing.image.img_to_array(image)\n",
        "    x_t.append([input_arr])\n",
        "    y_t.append([files[1]])\n",
        "\n",
        "x_t_ = 0\n",
        "y_t_ = 0\n",
        "x_t_ = np.reshape(np.array(x_t, dtype='float32'),(len(x_t),img_height,img_width,1))\n",
        "y_t_ = np.array(y_t, dtype='float32')\n"
      ]
    },
    {
      "cell_type": "code",
      "execution_count": null,
      "metadata": {
        "id": "siy0SQ97Y7LI"
      },
      "outputs": [],
      "source": []
    },
    {
      "cell_type": "code",
      "execution_count": null,
      "metadata": {
        "id": "2tqUJ7JzilmU"
      },
      "outputs": [],
      "source": [
        "from tensorflow import keras\n",
        "model1 = tf.keras.models.load_model('/content/current_k_value0.h5')\n",
        "model2 = tf.keras.models.load_model('/content/current_k_value1.h5')\n",
        "model3 = tf.keras.models.load_model('/content/current_k_value2.h5')\n",
        "model4 = tf.keras.models.load_model('/content/current_k_value3.h5')\n",
        "model5 = tf.keras.models.load_model('/content/current_k_value4.h5')\n",
        "model6 = tf.keras.models.load_model('/content/current_k_value5.h5')\n",
        "model7 = tf.keras.models.load_model('/content/current_k_value6.h5')\n",
        "model8 = tf.keras.models.load_model('/content/current_k_value7.h5')\n",
        "model9 = tf.keras.models.load_model('/content/current_k_value8.h5')\n",
        "model10 = tf.keras.models.load_model('/content/current_k_value9.h5')\n",
        "\n",
        "y_pred1 = model1.predict(x_t_)\n",
        "y_pred2 = model2.predict(x_t_)\n",
        "y_pred3 = model3.predict(x_t_)\n",
        "y_pred4 = model4.predict(x_t_)\n",
        "y_pred5 = model5.predict(x_t_)\n",
        "y_pred6 = model6.predict(x_t_)\n",
        "y_pred7 = model7.predict(x_t_)\n",
        "y_pred8 = model8.predict(x_t_)\n",
        "y_pred9 = model9.predict(x_t_)\n",
        "y_pred10 = model10.predict(x_t_)\n",
        "\n",
        "\n",
        "confusion_matrix1 = sklearn.metrics.confusion_matrix(y_t_, np.rint(y_pred1))\n",
        "confusion_matrix2 = sklearn.metrics.confusion_matrix(y_t_, np.rint(y_pred2))\n",
        "confusion_matrix3 = sklearn.metrics.confusion_matrix(y_t_, np.rint(y_pred3))\n",
        "confusion_matrix4 = sklearn.metrics.confusion_matrix(y_t_, np.rint(y_pred4))\n",
        "confusion_matrix5 = sklearn.metrics.confusion_matrix(y_t_, np.rint(y_pred5))\n",
        "confusion_matrix6 = sklearn.metrics.confusion_matrix(y_t_, np.rint(y_pred6))\n",
        "confusion_matrix7 = sklearn.metrics.confusion_matrix(y_t_, np.rint(y_pred7))\n",
        "confusion_matrix8 = sklearn.metrics.confusion_matrix(y_t_, np.rint(y_pred8))\n",
        "confusion_matrix9 = sklearn.metrics.confusion_matrix(y_t_, np.rint(y_pred9))\n",
        "confusion_matrix10 = sklearn.metrics.confusion_matrix(y_t_, np.rint(y_pred10))\n",
        "\n",
        "auc1 = sklearn.metrics.roc_auc_score(y_t_, np.rint(y_pred1))\n",
        "auc2 = sklearn.metrics.roc_auc_score(y_t_, np.rint(y_pred2))\n",
        "auc3 = sklearn.metrics.roc_auc_score(y_t_, np.rint(y_pred3))\n",
        "auc4 = sklearn.metrics.roc_auc_score(y_t_, np.rint(y_pred4))\n",
        "auc5 = sklearn.metrics.roc_auc_score(y_t_, np.rint(y_pred5))\n",
        "auc6 = sklearn.metrics.roc_auc_score(y_t_, np.rint(y_pred6))\n",
        "auc7 = sklearn.metrics.roc_auc_score(y_t_, np.rint(y_pred7))\n",
        "auc8 = sklearn.metrics.roc_auc_score(y_t_, np.rint(y_pred8))\n",
        "auc9 = sklearn.metrics.roc_auc_score(y_t_, np.rint(y_pred9))\n",
        "auc10 = sklearn.metrics.roc_auc_score(y_t_, np.rint(y_pred10))\n",
        "\n",
        "fpr1, tpr1, threshold1 = sklearn.metrics.roc_curve(y_t_,  np.round(y_pred1,2))\n",
        "fpr2, tpr2, threshold2 = sklearn.metrics.roc_curve(y_t_,  np.round(y_pred2,2))\n",
        "fpr3, tpr3, threshold3 = sklearn.metrics.roc_curve(y_t_,  np.round(y_pred3,2))\n",
        "fpr4, tpr4, threshold4 = sklearn.metrics.roc_curve(y_t_,  np.round(y_pred4,2))\n",
        "fpr5, tpr5, threshold5 = sklearn.metrics.roc_curve(y_t_,  np.round(y_pred5,2))\n",
        "fpr6, tpr6, threshold6 = sklearn.metrics.roc_curve(y_t_,  np.round(y_pred6,2))\n",
        "fpr7, tpr7, threshold7 = sklearn.metrics.roc_curve(y_t_,  np.round(y_pred7,2))\n",
        "fpr8, tpr8, threshold8 = sklearn.metrics.roc_curve(y_t_,  np.round(y_pred8,2))\n",
        "fpr9, tpr9, threshold9 = sklearn.metrics.roc_curve(y_t_,  np.round(y_pred9,2))\n",
        "fpr10, tpr10, threshold10 = sklearn.metrics.roc_curve(y_t_,  np.round(y_pred10,2))\n",
        "\n"
      ]
    },
    {
      "cell_type": "code",
      "execution_count": null,
      "metadata": {
        "colab": {
          "base_uri": "https://localhost:8080/",
          "height": 295
        },
        "id": "M3gX_0j2Hgwu",
        "outputId": "0c1cd429-6d96-47e2-e5f5-9fa3ef2d9c86"
      },
      "outputs": [
        {
          "output_type": "display_data",
          "data": {
            "text/plain": [
              "<Figure size 432x288 with 1 Axes>"
            ],
            "image/png": "[encoded data removed]"
          },
          "metadata": {
            "needs_background": "light"
          }
        }
      ],
      "source": [
        "plt.title('Receiver Operating Characteristic')\n",
        "plt.plot(fpr1, tpr1, 'b')\n",
        "plt.plot(fpr2, tpr2, 'r')\n",
        "plt.plot(fpr3, tpr3, 'g')\n",
        "plt.plot(fpr4, tpr4, 'c')\n",
        "plt.plot(fpr5, tpr5, 'y')\n",
        "plt.plot(fpr6, tpr6, 'm')\n",
        "plt.plot(fpr7, tpr7, 'k')\n",
        "plt.plot(fpr8, tpr8, 'w')\n",
        "plt.plot(fpr9, tpr9, 'b')\n",
        "plt.plot(fpr10, tpr10, 'r')\n",
        "\n",
        "plt.plot([0, 1], [0, 1],'r--')\n",
        "plt.xlim([0, 1])\n",
        "plt.ylim([0, 1])\n",
        "plt.ylabel('True Positive Rate')\n",
        "plt.xlabel('False Positive Rate')\n",
        "plt.show()"
      ]
    },
    {
      "cell_type": "code",
      "execution_count": null,
      "metadata": {
        "id": "FzMIlDS_HT4A"
      },
      "outputs": [],
      "source": [
        "a = [auc1,auc2,auc3,auc4,auc5,auc6,auc7,auc8,auc9,auc10]"
      ]
    },
    {
      "cell_type": "code",
      "execution_count": null,
      "metadata": {
        "colab": {
          "base_uri": "https://localhost:8080/"
        },
        "id": "il5xwjVwttf-",
        "outputId": "c6c7d57c-4257-4a30-adcc-cc0ced155e0e"
      },
      "outputs": [
        {
          "output_type": "stream",
          "name": "stdout",
          "text": [
            "0.9493774868437941\n",
            "0.9282248748556026\n",
            "0.9199075856757798\n",
            "0.9384289564882557\n",
            "0.9342574765755358\n",
            "0.8553074059812604\n",
            "0.9233346168656142\n",
            "0.9305095623154923\n",
            "0.9331408034912079\n",
            "0.9520343986651265\n"
          ]
        }
      ],
      "source": [
        "for i in a:\n",
        "  print(i)"
      ]
    },
    {
      "cell_type": "code",
      "execution_count": null,
      "metadata": {
        "colab": {
          "base_uri": "https://localhost:8080/"
        },
        "id": "0PQlYt1CBtPd",
        "outputId": "73f17484-8a1b-4493-8aa9-510eb0e74194"
      },
      "outputs": [
        {
          "output_type": "stream",
          "name": "stdout",
          "text": [
            "0.9563106796116505\n",
            "0.9368932038834952\n",
            "0.9320388349514563\n",
            "0.9441747572815534\n",
            "0.9466019417475728\n",
            "0.8762135922330098\n",
            "0.9247572815533981\n",
            "0.9320388349514563\n",
            "0.9393203883495146\n",
            "0.9538834951456311\n",
            "-----------------------------------------------------------------\n",
            "0.9591078066914498\n",
            "0.9442379182156134\n",
            "0.9340659340659341\n",
            "0.9548872180451128\n",
            "0.9418181818181818\n",
            "0.8848920863309353\n",
            "0.9534883720930233\n",
            "0.9575289575289575\n",
            "0.9511278195488722\n",
            "0.9694656488549618\n",
            "-----------------------------------------------------------------\n",
            "0.9735849056603774\n",
            "0.9584905660377359\n",
            "0.9622641509433962\n",
            "0.9584905660377359\n",
            "0.9773584905660377\n",
            "0.9283018867924528\n",
            "0.9283018867924528\n",
            "0.9358490566037736\n",
            "0.9547169811320755\n",
            "0.9584905660377359\n",
            "-----------------------------------------------------------------\n",
            "0.9662921348314606\n",
            "0.9513108614232211\n",
            "0.9479553903345725\n",
            "0.9566854990583805\n",
            "0.9592592592592593\n",
            "0.9060773480662984\n",
            "0.9407265774378585\n",
            "0.9465648854961831\n",
            "0.9529190207156308\n",
            "0.9639468690702088\n"
          ]
        }
      ],
      "source": [
        "print(sklearn.metrics.accuracy_score(y_t,np.rint(y_pred1)))\n",
        "print(sklearn.metrics.accuracy_score(y_t,np.rint(y_pred2)))\n",
        "print(sklearn.metrics.accuracy_score(y_t,np.rint(y_pred3)))\n",
        "print(sklearn.metrics.accuracy_score(y_t,np.rint(y_pred4)))\n",
        "print(sklearn.metrics.accuracy_score(y_t,np.rint(y_pred5)))\n",
        "print(sklearn.metrics.accuracy_score(y_t,np.rint(y_pred6)))\n",
        "print(sklearn.metrics.accuracy_score(y_t,np.rint(y_pred7)))\n",
        "print(sklearn.metrics.accuracy_score(y_t,np.rint(y_pred8)))\n",
        "print(sklearn.metrics.accuracy_score(y_t,np.rint(y_pred9)))\n",
        "print(sklearn.metrics.accuracy_score(y_t,np.rint(y_pred10)))\n",
        "\n",
        "print(\"-----------------------------------------------------------------\")\n",
        "\n",
        "print(sklearn.metrics.precision_score(y_t_,np.rint(y_pred1)))\n",
        "print(sklearn.metrics.precision_score(y_t_,np.rint(y_pred2)))\n",
        "print(sklearn.metrics.precision_score(y_t_,np.rint(y_pred3)))\n",
        "print(sklearn.metrics.precision_score(y_t_,np.rint(y_pred4)))\n",
        "print(sklearn.metrics.precision_score(y_t_,np.rint(y_pred5)))\n",
        "print(sklearn.metrics.precision_score(y_t_,np.rint(y_pred6)))\n",
        "print(sklearn.metrics.precision_score(y_t_,np.rint(y_pred7)))\n",
        "print(sklearn.metrics.precision_score(y_t_,np.rint(y_pred8)))\n",
        "print(sklearn.metrics.precision_score(y_t_,np.rint(y_pred9)))\n",
        "print(sklearn.metrics.precision_score(y_t_,np.rint(y_pred10)))\n",
        "print(\"-----------------------------------------------------------------\")\n",
        "print(sklearn.metrics.recall_score(y_t_,np.rint(y_pred1)))\n",
        "print(sklearn.metrics.recall_score(y_t_,np.rint(y_pred2)))\n",
        "print(sklearn.metrics.recall_score(y_t_,np.rint(y_pred3)))\n",
        "print(sklearn.metrics.recall_score(y_t_,np.rint(y_pred4)))\n",
        "print(sklearn.metrics.recall_score(y_t_,np.rint(y_pred5)))\n",
        "print(sklearn.metrics.recall_score(y_t_,np.rint(y_pred6)))\n",
        "print(sklearn.metrics.recall_score(y_t_,np.rint(y_pred7)))\n",
        "print(sklearn.metrics.recall_score(y_t_,np.rint(y_pred8)))\n",
        "print(sklearn.metrics.recall_score(y_t_,np.rint(y_pred9)))\n",
        "print(sklearn.metrics.recall_score(y_t_,np.rint(y_pred10)))\n",
        "\n",
        "print(\"-----------------------------------------------------------------\")\n",
        "print(sklearn.metrics.f1_score(y_t_,np.rint(y_pred1)))\n",
        "print(sklearn.metrics.f1_score(y_t_,np.rint(y_pred2)))\n",
        "print(sklearn.metrics.f1_score(y_t_,np.rint(y_pred3)))\n",
        "print(sklearn.metrics.f1_score(y_t_,np.rint(y_pred4)))\n",
        "print(sklearn.metrics.f1_score(y_t_,np.rint(y_pred5)))\n",
        "print(sklearn.metrics.f1_score(y_t_,np.rint(y_pred6)))\n",
        "print(sklearn.metrics.f1_score(y_t_,np.rint(y_pred7)))\n",
        "print(sklearn.metrics.f1_score(y_t_,np.rint(y_pred8)))\n",
        "print(sklearn.metrics.f1_score(y_t_,np.rint(y_pred9)))\n",
        "print(sklearn.metrics.f1_score(y_t_,np.rint(y_pred10)))"
      ]
    },
    {
      "cell_type": "code",
      "execution_count": null,
      "metadata": {
        "colab": {
          "base_uri": "https://localhost:8080/"
        },
        "id": "VmFckA4eBtSo",
        "outputId": "3a05bd64-d312-40e2-e807-e0b617803f96"
      },
      "outputs": [
        {
          "data": {
            "text/plain": [
              "array([[140,  11],\n",
              "       [  4, 257]])"
            ]
          },
          "execution_count": 25,
          "metadata": {},
          "output_type": "execute_result"
        }
      ],
      "source": [
        "confusion_matrix1\n"
      ]
    },
    {
      "cell_type": "code",
      "execution_count": null,
      "metadata": {
        "colab": {
          "base_uri": "https://localhost:8080/",
          "height": 312
        },
        "id": "UcEc_FS9-eM7",
        "outputId": "d45b2eba-ede3-40c0-9709-ba3df147d083"
      },
      "outputs": [
        {
          "output_type": "execute_result",
          "data": {
            "text/plain": [
              "Text(0.5, 0, 'Observations')"
            ]
          },
          "metadata": {},
          "execution_count": 14
        },
        {
          "output_type": "display_data",
          "data": {
            "text/plain": [
              "<Figure size 432x288 with 1 Axes>"
            ],
            "image/png": "[encoded data removed]"
          },
          "metadata": {
            "needs_background": "light"
          }
        }
      ],
      "source": [
        "import matplotlib.pyplot as plt\n",
        "plt.scatter(np.arange(0,40),y_t_[0:40])\n",
        "plt.scatter(np.arange(0,40),y_pred7[0:40])\n",
        "plt.title(\"ACTUAL VS PREDICTED\")\n",
        "plt.xlabel(\"Observations\")\n"
      ]
    },
    {
      "cell_type": "code",
      "execution_count": null,
      "metadata": {
        "colab": {
          "base_uri": "https://localhost:8080/",
          "height": 295
        },
        "id": "M9HbSD_2LxPq",
        "outputId": "f1deaac3-825b-45d6-ea89-e938baa85332"
      },
      "outputs": [
        {
          "output_type": "display_data",
          "data": {
            "text/plain": [
              "<Figure size 432x288 with 1 Axes>"
            ],
            "image/png": "[encoded data removed]"
          },
          "metadata": {
            "needs_background": "light"
          }
        }
      ],
      "source": [
        "plt.plot(np.arange(0,500),main_train[2],color='red')\n",
        "plt.plot(np.arange(0,500),main_val[2],color='green')\n",
        "plt.plot(np.arange(0,500),main_test[2],color='blue')\n",
        "\n",
        "\n",
        "plt.title('Model accuracy')\n",
        "plt.ylabel('Accuracy')\n",
        "plt.title('Brain Cut Model')\n",
        "\n",
        "plt.xlabel('Epoch')\n",
        "plt.legend(['Train', 'Validation','Testing'], loc='upper left')\n",
        "plt.show()"
      ]
    },
    {
      "cell_type": "code",
      "execution_count": null,
      "metadata": {
        "id": "lzId1TBIm6nc"
      },
      "outputs": [],
      "source": [
        "main_test"
      ]
    },
    {
      "cell_type": "code",
      "execution_count": null,
      "metadata": {
        "colab": {
          "base_uri": "https://localhost:8080/",
          "height": 235
        },
        "id": "wvMRUegeqKzB",
        "outputId": "3d4bda02-c65c-4aa4-b11f-9c8cde194845"
      },
      "outputs": [
        {
          "output_type": "error",
          "ename": "IndexError",
          "evalue": "ignored",
          "traceback": [
            "\u001b[0;31m---------------------------------------------------------------------------\u001b[0m",
            "\u001b[0;31mIndexError\u001b[0m                                Traceback (most recent call last)",
            "\u001b[0;32m<ipython-input-19-581c647e5c10>\u001b[0m in \u001b[0;36m<module>\u001b[0;34m()\u001b[0m\n\u001b[0;32m----> 1\u001b[0;31m \u001b[0mplt\u001b[0m\u001b[0;34m.\u001b[0m\u001b[0mplot\u001b[0m\u001b[0;34m(\u001b[0m\u001b[0mnp\u001b[0m\u001b[0;34m.\u001b[0m\u001b[0marange\u001b[0m\u001b[0;34m(\u001b[0m\u001b[0;36m0\u001b[0m\u001b[0;34m,\u001b[0m\u001b[0;36m500\u001b[0m\u001b[0;34m)\u001b[0m\u001b[0;34m,\u001b[0m\u001b[0mtrain_losses\u001b[0m\u001b[0;34m[\u001b[0m\u001b[0;36m1\u001b[0m\u001b[0;34m]\u001b[0m\u001b[0;34m,\u001b[0m\u001b[0mcolor\u001b[0m\u001b[0;34m=\u001b[0m\u001b[0;34m'red'\u001b[0m\u001b[0;34m)\u001b[0m\u001b[0;34m\u001b[0m\u001b[0;34m\u001b[0m\u001b[0m\n\u001b[0m\u001b[1;32m      2\u001b[0m \u001b[0mplt\u001b[0m\u001b[0;34m.\u001b[0m\u001b[0mplot\u001b[0m\u001b[0;34m(\u001b[0m\u001b[0mnp\u001b[0m\u001b[0;34m.\u001b[0m\u001b[0marange\u001b[0m\u001b[0;34m(\u001b[0m\u001b[0;36m0\u001b[0m\u001b[0;34m,\u001b[0m\u001b[0;36m500\u001b[0m\u001b[0;34m)\u001b[0m\u001b[0;34m,\u001b[0m\u001b[0mval_loss\u001b[0m\u001b[0;34m[\u001b[0m\u001b[0;36m1\u001b[0m\u001b[0;34m]\u001b[0m\u001b[0;34m,\u001b[0m\u001b[0mcolor\u001b[0m\u001b[0;34m=\u001b[0m\u001b[0;34m'green'\u001b[0m\u001b[0;34m)\u001b[0m\u001b[0;34m\u001b[0m\u001b[0;34m\u001b[0m\u001b[0m\n\u001b[1;32m      3\u001b[0m \u001b[0mplt\u001b[0m\u001b[0;34m.\u001b[0m\u001b[0mplot\u001b[0m\u001b[0;34m(\u001b[0m\u001b[0mnp\u001b[0m\u001b[0;34m.\u001b[0m\u001b[0marange\u001b[0m\u001b[0;34m(\u001b[0m\u001b[0;36m0\u001b[0m\u001b[0;34m,\u001b[0m\u001b[0;36m500\u001b[0m\u001b[0;34m)\u001b[0m\u001b[0;34m,\u001b[0m\u001b[0mtest_losses\u001b[0m\u001b[0;34m[\u001b[0m\u001b[0;36m1\u001b[0m\u001b[0;34m]\u001b[0m\u001b[0;34m,\u001b[0m\u001b[0mcolor\u001b[0m\u001b[0;34m=\u001b[0m\u001b[0;34m'blue'\u001b[0m\u001b[0;34m)\u001b[0m\u001b[0;34m\u001b[0m\u001b[0;34m\u001b[0m\u001b[0m\n\u001b[1;32m      4\u001b[0m \u001b[0;34m\u001b[0m\u001b[0m\n\u001b[1;32m      5\u001b[0m \u001b[0mplt\u001b[0m\u001b[0;34m.\u001b[0m\u001b[0mtitle\u001b[0m\u001b[0;34m(\u001b[0m\u001b[0;34m'Brain Cut Model (K = 3)'\u001b[0m\u001b[0;34m)\u001b[0m\u001b[0;34m\u001b[0m\u001b[0;34m\u001b[0m\u001b[0m\n",
            "\u001b[0;31mIndexError\u001b[0m: list index out of range"
          ]
        }
      ],
      "source": [
        "plt.plot(np.arange(0,500),train_losses[1],color='red')\n",
        "plt.plot(np.arange(0,500),val_loss[1],color='green')\n",
        "plt.plot(np.arange(0,500),test_losses[1],color='blue')\n",
        "\n",
        "plt.title('Brain Cut Model (K = 3)')\n",
        "plt.ylabel('Loss')\n",
        "\n",
        "plt.xlabel('Epoch')\n",
        "plt.legend(['Train','Validation','Test'], loc='upper left')\n",
        "plt.show()"
      ]
    },
    {
      "cell_type": "code",
      "execution_count": null,
      "metadata": {
        "id": "DlI6mhYyr5Oc"
      },
      "outputs": [],
      "source": [
        "daa = []"
      ]
    },
    {
      "cell_type": "code",
      "execution_count": null,
      "metadata": {
        "id": "7y8T5YUTqK3t"
      },
      "outputs": [],
      "source": [
        "x_t = []\n",
        "y_t = []\n",
        "for files in daa:\n",
        "    image = tf.keras.preprocessing.image.load_img(files[0],color_mode = \"grayscale\",interpolation='nearest', \n",
        "                                                  target_size=(img_height, img_width))\n",
        "    input_arr = tf.keras.preprocessing.image.img_to_array(image)\n",
        "    x_t.append([input_arr])\n",
        "    y_t.append([files[1]])\n",
        "\n",
        "x_t_ = 0\n",
        "y_t_ = 0\n",
        "x_t_ = np.reshape(np.array(x_t, dtype='float32'),(len(x_t),img_height,img_width,1))\n",
        "y_t_ = np.array(y_t, dtype='float32')\n"
      ]
    },
    {
      "cell_type": "code",
      "execution_count": null,
      "metadata": {
        "id": "LcqAbfcRgd3u"
      },
      "outputs": [],
      "source": [
        "from tensorflow import keras\n",
        "model = tf.keras.models.load_model('/content/b249.h5')\n",
        "y_pred = model.predict(x_t_)\n",
        "\n",
        "confusion_matrix = sklearn.metrics.confusion_matrix(y_t_, np.rint(y_pred))\n"
      ]
    },
    {
      "cell_type": "code",
      "execution_count": null,
      "metadata": {
        "id": "_RbGwyJjgd6Z"
      },
      "outputs": [],
      "source": [
        "op = []"
      ]
    },
    {
      "cell_type": "code",
      "execution_count": null,
      "metadata": {
        "id": "SFPVg6b4gd8-"
      },
      "outputs": [],
      "source": [
        "test_pr = pd.DataFrame(daa)\n",
        "test_pr.columns = [['name','label']]"
      ]
    },
    {
      "cell_type": "code",
      "execution_count": null,
      "metadata": {
        "id": "aeCvw67Mgd_V"
      },
      "outputs": [],
      "source": [
        "for i in range(len(y_pred)):\n",
        "  op.append(\"{:.9f}\".format(float(y_pred[i])))\n",
        "\n",
        "test_pr['calc_prob'] = op\n",
        "test_pr.to_csv('/content/top.csv',index=False)"
      ]
    },
    {
      "cell_type": "code",
      "execution_count": null,
      "metadata": {
        "id": "BPgObTxJue4v"
      },
      "outputs": [],
      "source": []
    },
    {
      "cell_type": "code",
      "execution_count": null,
      "metadata": {
        "id": "3AOBHIa7kYuo"
      },
      "outputs": [],
      "source": []
    },
    {
      "cell_type": "code",
      "execution_count": null,
      "metadata": {
        "id": "Yt-1KzcckYxg"
      },
      "outputs": [],
      "source": []
    },
    {
      "cell_type": "code",
      "execution_count": null,
      "metadata": {
        "id": "g15JAXGEkY06"
      },
      "outputs": [],
      "source": []
    },
    {
      "cell_type": "code",
      "execution_count": null,
      "metadata": {
        "id": "IxOwfctKkY39"
      },
      "outputs": [],
      "source": []
    },
    {
      "cell_type": "code",
      "execution_count": null,
      "metadata": {
        "id": "piI6qZxEkY7G"
      },
      "outputs": [],
      "source": []
    },
    {
      "cell_type": "code",
      "execution_count": null,
      "metadata": {
        "id": "6A9--AYMkY9e"
      },
      "outputs": [],
      "source": []
    },
    {
      "cell_type": "code",
      "execution_count": null,
      "metadata": {
        "id": "z2OWSxN6kZAj"
      },
      "outputs": [],
      "source": []
    },
    {
      "cell_type": "code",
      "execution_count": null,
      "metadata": {
        "id": "ykcYHPZfkZDJ"
      },
      "outputs": [],
      "source": []
    },
    {
      "cell_type": "code",
      "execution_count": null,
      "metadata": {
        "id": "5WSzj3VAkZGE"
      },
      "outputs": [],
      "source": []
    },
    {
      "cell_type": "code",
      "execution_count": null,
      "metadata": {
        "id": "m_1gt9RskZJJ"
      },
      "outputs": [],
      "source": []
    },
    {
      "cell_type": "code",
      "execution_count": null,
      "metadata": {
        "id": "-AeyOEF9kZMD"
      },
      "outputs": [],
      "source": []
    },
    {
      "cell_type": "code",
      "execution_count": null,
      "metadata": {
        "colab": {
          "base_uri": "https://localhost:8080/",
          "height": 1000
        },
        "id": "cou7SCbbkZO6",
        "outputId": "c1eb911c-1843-44c1-8544-4add688da55b"
      },
      "outputs": [
        {
          "name": "stdout",
          "output_type": "stream",
          "text": [
            "[[1.]\n",
            " [0.]\n",
            " [1.]\n",
            " [0.]\n",
            " [1.]\n",
            " [1.]\n",
            " [0.]\n",
            " [1.]\n",
            " [1.]\n",
            " [0.]\n",
            " [1.]\n",
            " [1.]\n",
            " [1.]\n",
            " [0.]\n",
            " [0.]\n",
            " [1.]\n",
            " [0.]\n",
            " [0.]\n",
            " [1.]\n",
            " [0.]\n",
            " [0.]\n",
            " [1.]\n",
            " [1.]\n",
            " [1.]\n",
            " [1.]\n",
            " [0.]\n",
            " [0.]\n",
            " [0.]\n",
            " [1.]\n",
            " [1.]\n",
            " [1.]\n",
            " [0.]\n",
            " [0.]\n",
            " [1.]\n",
            " [0.]\n",
            " [1.]\n",
            " [1.]\n",
            " [1.]\n",
            " [1.]\n",
            " [1.]\n",
            " [1.]\n",
            " [1.]\n",
            " [0.]\n",
            " [1.]\n",
            " [1.]\n",
            " [1.]\n",
            " [1.]\n",
            " [0.]\n",
            " [1.]\n",
            " [1.]\n",
            " [1.]\n",
            " [1.]\n",
            " [0.]\n",
            " [1.]\n",
            " [1.]\n",
            " [1.]\n",
            " [1.]\n",
            " [0.]\n",
            " [1.]\n",
            " [1.]\n",
            " [1.]\n",
            " [1.]\n",
            " [1.]\n",
            " [1.]\n",
            " [1.]\n",
            " [0.]\n",
            " [0.]\n",
            " [1.]\n",
            " [1.]\n",
            " [0.]\n",
            " [0.]\n",
            " [1.]\n",
            " [1.]\n",
            " [0.]\n",
            " [0.]\n",
            " [0.]\n",
            " [1.]\n",
            " [0.]\n",
            " [1.]\n",
            " [1.]\n",
            " [1.]\n",
            " [1.]\n",
            " [0.]\n",
            " [1.]\n",
            " [0.]\n",
            " [1.]\n",
            " [1.]\n",
            " [1.]\n",
            " [1.]\n",
            " [1.]\n",
            " [0.]\n",
            " [0.]\n",
            " [1.]\n",
            " [0.]\n",
            " [0.]\n",
            " [0.]\n",
            " [1.]\n",
            " [0.]\n",
            " [0.]\n",
            " [1.]\n",
            " [1.]\n",
            " [1.]\n",
            " [1.]\n",
            " [1.]\n",
            " [0.]\n",
            " [1.]\n",
            " [0.]\n",
            " [1.]\n",
            " [1.]\n",
            " [1.]\n",
            " [1.]\n",
            " [1.]\n",
            " [1.]\n",
            " [0.]\n",
            " [1.]\n",
            " [1.]\n",
            " [1.]\n",
            " [1.]\n",
            " [0.]\n",
            " [1.]\n",
            " [1.]\n",
            " [1.]\n",
            " [1.]\n",
            " [1.]\n",
            " [0.]\n",
            " [1.]\n",
            " [1.]\n",
            " [1.]]\n"
          ]
        },
        {
          "ename": "AttributeError",
          "evalue": "ignored",
          "output_type": "error",
          "traceback": [
            "\u001b[0;31m---------------------------------------------------------------------------\u001b[0m",
            "\u001b[0;31mAttributeError\u001b[0m                            Traceback (most recent call last)",
            "\u001b[0;32m<ipython-input-16-c3e1d2f28578>\u001b[0m in \u001b[0;36m<module>\u001b[0;34m()\u001b[0m\n\u001b[1;32m    250\u001b[0m \u001b[0;31m# <----------------------------------------------------------------------------------------------------------->\u001b[0m\u001b[0;34m\u001b[0m\u001b[0;34m\u001b[0m\u001b[0;34m\u001b[0m\u001b[0m\n\u001b[1;32m    251\u001b[0m \u001b[0;34m\u001b[0m\u001b[0m\n\u001b[0;32m--> 252\u001b[0;31m   \u001b[0mmodel_training_acc\u001b[0m\u001b[0;34m,\u001b[0m\u001b[0mmodel_testing_acc\u001b[0m \u001b[0;34m=\u001b[0m \u001b[0mmodel_training\u001b[0m\u001b[0;34m(\u001b[0m\u001b[0mtrain_files\u001b[0m\u001b[0;34m,\u001b[0m\u001b[0mtesting_data\u001b[0m\u001b[0;34m,\u001b[0m\u001b[0mk_iter\u001b[0m\u001b[0;34m)\u001b[0m\u001b[0;34m\u001b[0m\u001b[0;34m\u001b[0m\u001b[0m\n\u001b[0m\u001b[1;32m    253\u001b[0m   \u001b[0mmain_train\u001b[0m\u001b[0;34m.\u001b[0m\u001b[0mappend\u001b[0m\u001b[0;34m(\u001b[0m\u001b[0mmodel_training_acc\u001b[0m\u001b[0;34m)\u001b[0m\u001b[0;34m\u001b[0m\u001b[0;34m\u001b[0m\u001b[0m\n\u001b[1;32m    254\u001b[0m   \u001b[0mmain_test\u001b[0m\u001b[0;34m.\u001b[0m\u001b[0mappend\u001b[0m\u001b[0;34m(\u001b[0m\u001b[0mmodel_testing_acc\u001b[0m\u001b[0;34m)\u001b[0m\u001b[0;34m\u001b[0m\u001b[0;34m\u001b[0m\u001b[0m\n",
            "\u001b[0;32m<ipython-input-16-c3e1d2f28578>\u001b[0m in \u001b[0;36mmodel_training\u001b[0;34m(train_files, testing_data, current_k_value)\u001b[0m\n\u001b[1;32m    199\u001b[0m   \u001b[0;31m# <----------------------------------------------------------------------------------------------------------->\u001b[0m\u001b[0;34m\u001b[0m\u001b[0;34m\u001b[0m\u001b[0;34m\u001b[0m\u001b[0m\n\u001b[1;32m    200\u001b[0m     \u001b[0mprint\u001b[0m\u001b[0;34m(\u001b[0m\u001b[0my_train_\u001b[0m\u001b[0;34m)\u001b[0m\u001b[0;34m\u001b[0m\u001b[0;34m\u001b[0m\u001b[0m\n\u001b[0;32m--> 201\u001b[0;31m     \u001b[0mtrain_loss\u001b[0m\u001b[0;34m,\u001b[0m \u001b[0mtrain_accuracy\u001b[0m \u001b[0;34m=\u001b[0m \u001b[0mbrain_model\u001b[0m\u001b[0;34m.\u001b[0m\u001b[0mtrain_on_batch\u001b[0m\u001b[0;34m(\u001b[0m\u001b[0mx_train_\u001b[0m\u001b[0;34m,\u001b[0m \u001b[0my_train_\u001b[0m\u001b[0;34m)\u001b[0m\u001b[0;34m\u001b[0m\u001b[0;34m\u001b[0m\u001b[0m\n\u001b[0m\u001b[1;32m    202\u001b[0m     \u001b[0;31m# validation_loss, validation_accuracy = brain_model.test_on_batch(x_validation_,y_validation_)\u001b[0m\u001b[0;34m\u001b[0m\u001b[0;34m\u001b[0m\u001b[0;34m\u001b[0m\u001b[0m\n\u001b[1;32m    203\u001b[0m     \u001b[0mtest_loss\u001b[0m\u001b[0;34m,\u001b[0m \u001b[0mtest_accuracy\u001b[0m \u001b[0;34m=\u001b[0m \u001b[0mbrain_model\u001b[0m\u001b[0;34m.\u001b[0m\u001b[0mtest_on_batch\u001b[0m\u001b[0;34m(\u001b[0m\u001b[0mx_test_\u001b[0m\u001b[0;34m,\u001b[0m\u001b[0my_test_\u001b[0m\u001b[0;34m)\u001b[0m\u001b[0;34m\u001b[0m\u001b[0;34m\u001b[0m\u001b[0m\n",
            "\u001b[0;31mAttributeError\u001b[0m: 'int' object has no attribute 'train_on_batch'"
          ]
        }
      ],
      "source": [
        "import pandas as pd\n",
        "import glob\n",
        "import random\n",
        "import numpy as np\n",
        "import tensorflow as tf\n",
        "from tensorflow.keras import  layers,models\n",
        "from sklearn.model_selection import KFold \n",
        "import os\n",
        "import sklearn\n",
        "from sklearn.metrics import precision_score\n",
        "from sklearn.metrics import recall_score\n",
        "from sklearn.metrics import f1_score\n",
        "%matplotlib inline\n",
        "\n",
        "import matplotlib.pyplot as plt\n",
        "\n",
        "brain_train_acc = []\n",
        "brain_test_acc = []\n",
        "train_losses = []\n",
        "test_losses = []\n",
        "\n",
        "val_loss = []\n",
        "val_acc = []\n",
        "test_acc = []\n",
        "\n",
        "\n",
        "data=pd.read_csv('/content/combined.csv')\n",
        "\n",
        "brain_votes = data['Brain-Feature-Loss'].to_list()\n",
        "\n",
        "brain_votes_results = []\n",
        "data_dir = '/content/home/rphatan/all_files'\n",
        "full_2d_data = glob.glob(data_dir +'/*.png')\n",
        "SEED = 220\n",
        "random.seed(SEED)\n",
        "random.shuffle(full_2d_data)\n",
        "\n",
        "\n",
        "for index,item in enumerate(brain_votes):\n",
        "  if brain_votes[index] == 'Yes':\n",
        "      brain_votes_results.append(1)\n",
        "  elif brain_votes[index] == 'No':\n",
        "      brain_votes_results.append(0)\n",
        "\n",
        "names = []\n",
        "for i in range(len(data)):\n",
        "    na = data['Filename'][i]\n",
        "    na = na.split('.')[0]\n",
        "    na = na + '.png'\n",
        "    names.append(na)\n",
        "    \n",
        "    \n",
        "brain_cut_dict = {}\n",
        "for cur_index,files in enumerate(names):\n",
        "    brain_cut_dict[files]=brain_votes_results[cur_index]\n",
        "\n",
        "final_list=[]\n",
        "for files in full_2d_data:\n",
        "    key_to_search = files.split('/')[-1].strip()\n",
        "    if key_to_search in brain_cut_dict:\n",
        "        final_list.append([files, brain_cut_dict[key_to_search]])\n",
        "\n",
        "\n",
        "img_height = 128\n",
        "img_width = 128\n",
        "df = pd.DataFrame(final_list)\n",
        "df.columns = ['name','data']\n",
        "X = df['name']\n",
        "y = df['data']\n",
        "\n",
        "\n",
        "def build_model():\n",
        "    brain_model = models.Sequential()\n",
        "    brain_model.add(layers.Conv2D(16, (5, 5),strides = 2 ,activation='relu',padding='same', input_shape=(128, 128, 1)))\n",
        "    brain_model.add(layers.MaxPooling2D((2, 2),padding='same'))\n",
        "    brain_model.add(layers.Conv2D(32, (3, 3),strides = 2, activation='relu',padding='same'))\n",
        "    brain_model.add(layers.MaxPooling2D((2, 2),padding='same'))\n",
        "    brain_model.add(layers.Conv2D(64, (3, 3),strides = 1, activation='relu',padding='same'))\n",
        "    brain_model.add(layers.MaxPooling2D((2, 2),padding='same'))\n",
        "    \n",
        "    brain_model.add(layers.Flatten())\n",
        "    brain_model.add(layers.Dense(64, activation='relu'))\n",
        "    brain_model.add(layers.Dense(1,activation='sigmoid'))\n",
        "    opt = tf.keras.optimizers.Adam(learning_rate=0.001)\n",
        "    brain_model.compile(optimizer=opt,\n",
        "              loss=tf.keras.losses.BinaryCrossentropy(from_logits=True),\n",
        "              metrics=['accuracy'])\n",
        "    \n",
        "    return brain_model\n",
        "\n",
        "def random_minibatch(train_files,batch_size):\n",
        "    random_indices = np.random.choice(len(train_files), batch_size)\n",
        "    return random_indices\n",
        "\n",
        "\n",
        "main = []\n",
        "val = []\n",
        "\n",
        "test_indices = np.random.choice(len(final_list), int(len(final_list) * 0.2)  , replace=False)\n",
        "testing_data = []\n",
        "\n",
        "\n",
        "\n",
        "brain_model = build_model()\n",
        "\n",
        "def model_training(train_files,testing_data,current_k_value):\n",
        "  brain_model = 0\n",
        "\n",
        "  brain_train_acc = []\n",
        "  val_acc = []\n",
        "  test_acc = []\n",
        "\n",
        "  train_losses = []\n",
        "  val_loss = []\n",
        "  test_losses = []\n",
        "\n",
        "  train_p = 0 \n",
        "  test_p = 0\n",
        "\n",
        "\n",
        "  for epoch_iterations in range(0,20,1):\n",
        "\n",
        "    train_p = random_minibatch(train_files,128)\n",
        "    validation_p = random_minibatch(validation_files,128)\n",
        "    test_p = random_minibatch(test_indices,128)\n",
        "\n",
        "\n",
        "    train_data = []\n",
        "    validation_data = []\n",
        "    test_data = []\n",
        "\n",
        "    \n",
        "    for i in train_p:\n",
        "      train_data.append(train_files[i])\n",
        "\n",
        "    for i in validation_p:\n",
        "      validation_data.append(validation_files[i])\n",
        "\n",
        "    for i in test_p:\n",
        "      test_data.append(testing_data[i])\n",
        "\n",
        "    for i in test_data:\n",
        "      if i in train_data:\n",
        "        print(\"present in train data\")\n",
        "      elif i in validation_data:\n",
        "        print(\"present in validation data\")\n",
        "      \n",
        "\n",
        "\n",
        "  # <----------------------------------------------------------------------------------------------------------->\n",
        "    \n",
        "    x_train=[]\n",
        "    y_train=[]\n",
        "\n",
        "    for files in train_data:\n",
        "        image = tf.keras.preprocessing.image.load_img(files[0],color_mode = \"grayscale\",interpolation='nearest', target_size=(img_height, img_width))\n",
        "        input_arr = tf.keras.preprocessing.image.img_to_array(image)\n",
        "        x_train.append([input_arr])\n",
        "        y_train.append([files[1]])\n",
        "\n",
        "    x_train_ = 0\n",
        "    y_train_ = 0\n",
        "    x_train_ = np.reshape(np.array(x_train, dtype='float32'),(len(x_train),img_height,img_width,1))\n",
        "    y_train_ = np.array(y_train, dtype='float32')\n",
        "\n",
        "\n",
        "  # <----------------------------------------------------------------------------------------------------------->\n",
        "    x_validation=[]\n",
        "    y_validation=[]\n",
        "\n",
        "    for files in validation_data:\n",
        "        image = tf.keras.preprocessing.image.load_img(files[0],color_mode = \"grayscale\",interpolation='nearest', \n",
        "                                                      target_size=(img_height, img_width))\n",
        "        input_arr = tf.keras.preprocessing.image.img_to_array(image)\n",
        "        x_validation.append([input_arr])\n",
        "        y_validation.append([files[1]])\n",
        "\n",
        "    x_validation_ = 0\n",
        "    y_validation_ = 0\n",
        "    x_validation_ = np.reshape(np.array(x_validation, dtype='float32'),(len(x_validation),img_height,img_width,1))\n",
        "    y_validation_ = np.array(y_validation, dtype='float32')\n",
        "\n",
        "  # <----------------------------------------------------------------------------------------------------------->\n",
        "    x_test = []\n",
        "    y_test = []\n",
        "    for files in test_data:\n",
        "        image = tf.keras.preprocessing.image.load_img(files[0],color_mode = \"grayscale\",interpolation='nearest', \n",
        "                                                      target_size=(img_height, img_width))\n",
        "        input_arr = tf.keras.preprocessing.image.img_to_array(image)\n",
        "        x_test.append([input_arr])\n",
        "        y_test.append([files[1]])\n",
        "\n",
        "    x_test_ = 0\n",
        "    y_test_ = 0\n",
        "    x_test_ = np.reshape(np.array(x_test, dtype='float32'),(len(x_test),img_height,img_width,1))\n",
        "    y_test_ = np.array(y_test, dtype='float32')\n",
        "\n",
        "\n",
        "  # <----------------------------------------------------------------------------------------------------------->\n",
        "    print(y_train_)\n",
        "    train_loss, train_accuracy = brain_model.train_on_batch(x_train_, y_train_)\n",
        "    validation_loss, validation_accuracy = brain_model.test_on_batch(x_validation_,y_validation_)\n",
        "    test_loss, test_accuracy = brain_model.test_on_batch(x_test_,y_test_)\n",
        "\n",
        "# <----------------------------------------------------------------------------------------------------------->\n",
        "\n",
        "    brain_train_acc.append(train_accuracy)\n",
        "    train_losses.append(train_loss)\n",
        "# <----------------------------------------------------------------------------------------------------------->\n",
        "\n",
        "    val_acc.append(validation_accuracy)\n",
        "    val_loss.append(validation_loss)\n",
        "# <----------------------------------------------------------------------------------------------------------->\n",
        "\n",
        "    test_acc.append(test_accuracy)                                                                                                                                                                                                                                                                                                                                                                                                                                                                                                                                    \n",
        "    test_losses.append(test_loss)\n",
        "  \n",
        "  brain_model.save('/content/'+ 'current_k_value' + str(iter) +'.h5')\n",
        "\n",
        "  return brain_train_acc,test_acc\n",
        "\n",
        "\n",
        "main_train = []\n",
        "main_test = []\n",
        "main_val = []\n",
        "k_iter = 1\n",
        "\n",
        "for i in range(5): # k different subsets of data ::::: 1484 -- training observations ::: 164 -- testing observations\n",
        "\n",
        "  train_files = []\n",
        "  validation_files = []\n",
        "  testing_data = []\n",
        "\n",
        "\n",
        "  for i in range(len(final_list)):\n",
        "    if i in test_indices:\n",
        "      pass\n",
        "    else:\n",
        "      train_files.append(final_list[i])\n",
        "  \n",
        "  # for i in validation_index:\n",
        "  #   if i in test_indices:\n",
        "  #     pass\n",
        "  #   else:\n",
        "  #     validation_files.append(final_list[i])\n",
        "\n",
        "  for i in test_indices:\n",
        "    testing_data.append(final_list[i])\n",
        "\n",
        "# <----------------------------------------------------------------------------------------------------------->\n",
        "\n",
        "  model_training_acc,model_testing_acc = model_training(train_files,testing_data,k_iter)\n",
        "  main_train.append(model_training_acc)\n",
        "  main_test.append(model_testing_acc)\n",
        "  main_val.append(model_val_acc)\n",
        "\n",
        "\n"
      ]
    },
    {
      "cell_type": "code",
      "execution_count": null,
      "metadata": {
        "colab": {
          "base_uri": "https://localhost:8080/",
          "height": 641
        },
        "id": "d4oxU--akZRx",
        "outputId": "5e3c1b42-ca5a-443a-cf09-1610347df311"
      },
      "outputs": [
        {
          "ename": "ValueError",
          "evalue": "ignored",
          "output_type": "error",
          "traceback": [
            "\u001b[0;31m---------------------------------------------------------------------------\u001b[0m",
            "\u001b[0;31mValueError\u001b[0m                                Traceback (most recent call last)",
            "\u001b[0;32m<ipython-input-13-24a22ff0c84b>\u001b[0m in \u001b[0;36m<module>\u001b[0;34m()\u001b[0m\n\u001b[1;32m      1\u001b[0m \u001b[0mplt\u001b[0m\u001b[0;34m.\u001b[0m\u001b[0mplot\u001b[0m\u001b[0;34m(\u001b[0m\u001b[0mnp\u001b[0m\u001b[0;34m.\u001b[0m\u001b[0marange\u001b[0m\u001b[0;34m(\u001b[0m\u001b[0;36m0\u001b[0m\u001b[0;34m,\u001b[0m\u001b[0;36m20\u001b[0m\u001b[0;34m)\u001b[0m\u001b[0;34m,\u001b[0m\u001b[0mmain_train\u001b[0m\u001b[0;34m[\u001b[0m\u001b[0;36m0\u001b[0m\u001b[0;34m]\u001b[0m\u001b[0;34m,\u001b[0m\u001b[0mcolor\u001b[0m\u001b[0;34m=\u001b[0m\u001b[0;34m'red'\u001b[0m\u001b[0;34m)\u001b[0m\u001b[0;34m\u001b[0m\u001b[0;34m\u001b[0m\u001b[0m\n\u001b[0;32m----> 2\u001b[0;31m \u001b[0mplt\u001b[0m\u001b[0;34m.\u001b[0m\u001b[0mplot\u001b[0m\u001b[0;34m(\u001b[0m\u001b[0mnp\u001b[0m\u001b[0;34m.\u001b[0m\u001b[0marange\u001b[0m\u001b[0;34m(\u001b[0m\u001b[0;36m0\u001b[0m\u001b[0;34m,\u001b[0m\u001b[0;36m20\u001b[0m\u001b[0;34m)\u001b[0m\u001b[0;34m,\u001b[0m\u001b[0mmain_val\u001b[0m\u001b[0;34m[\u001b[0m\u001b[0;36m0\u001b[0m\u001b[0;34m]\u001b[0m\u001b[0;34m,\u001b[0m\u001b[0mcolor\u001b[0m\u001b[0;34m=\u001b[0m\u001b[0;34m'green'\u001b[0m\u001b[0;34m)\u001b[0m\u001b[0;34m\u001b[0m\u001b[0;34m\u001b[0m\u001b[0m\n\u001b[0m\u001b[1;32m      3\u001b[0m \u001b[0mplt\u001b[0m\u001b[0;34m.\u001b[0m\u001b[0mplot\u001b[0m\u001b[0;34m(\u001b[0m\u001b[0mnp\u001b[0m\u001b[0;34m.\u001b[0m\u001b[0marange\u001b[0m\u001b[0;34m(\u001b[0m\u001b[0;36m0\u001b[0m\u001b[0;34m,\u001b[0m\u001b[0;36m20\u001b[0m\u001b[0;34m)\u001b[0m\u001b[0;34m,\u001b[0m\u001b[0mmain_test\u001b[0m\u001b[0;34m[\u001b[0m\u001b[0;36m0\u001b[0m\u001b[0;34m]\u001b[0m\u001b[0;34m,\u001b[0m\u001b[0mcolor\u001b[0m\u001b[0;34m=\u001b[0m\u001b[0;34m'blue'\u001b[0m\u001b[0;34m)\u001b[0m\u001b[0;34m\u001b[0m\u001b[0;34m\u001b[0m\u001b[0m\n\u001b[1;32m      4\u001b[0m \u001b[0;34m\u001b[0m\u001b[0m\n\u001b[1;32m      5\u001b[0m \u001b[0;34m\u001b[0m\u001b[0m\n",
            "\u001b[0;32m/usr/local/lib/python3.7/dist-packages/matplotlib/pyplot.py\u001b[0m in \u001b[0;36mplot\u001b[0;34m(scalex, scaley, data, *args, **kwargs)\u001b[0m\n\u001b[1;32m   2761\u001b[0m     return gca().plot(\n\u001b[1;32m   2762\u001b[0m         *args, scalex=scalex, scaley=scaley, **({\"data\": data} if data\n\u001b[0;32m-> 2763\u001b[0;31m         is not None else {}), **kwargs)\n\u001b[0m\u001b[1;32m   2764\u001b[0m \u001b[0;34m\u001b[0m\u001b[0m\n\u001b[1;32m   2765\u001b[0m \u001b[0;34m\u001b[0m\u001b[0m\n",
            "\u001b[0;32m/usr/local/lib/python3.7/dist-packages/matplotlib/axes/_axes.py\u001b[0m in \u001b[0;36mplot\u001b[0;34m(self, scalex, scaley, data, *args, **kwargs)\u001b[0m\n\u001b[1;32m   1645\u001b[0m         \"\"\"\n\u001b[1;32m   1646\u001b[0m         \u001b[0mkwargs\u001b[0m \u001b[0;34m=\u001b[0m \u001b[0mcbook\u001b[0m\u001b[0;34m.\u001b[0m\u001b[0mnormalize_kwargs\u001b[0m\u001b[0;34m(\u001b[0m\u001b[0mkwargs\u001b[0m\u001b[0;34m,\u001b[0m \u001b[0mmlines\u001b[0m\u001b[0;34m.\u001b[0m\u001b[0mLine2D\u001b[0m\u001b[0;34m)\u001b[0m\u001b[0;34m\u001b[0m\u001b[0;34m\u001b[0m\u001b[0m\n\u001b[0;32m-> 1647\u001b[0;31m         \u001b[0mlines\u001b[0m \u001b[0;34m=\u001b[0m \u001b[0;34m[\u001b[0m\u001b[0;34m*\u001b[0m\u001b[0mself\u001b[0m\u001b[0;34m.\u001b[0m\u001b[0m_get_lines\u001b[0m\u001b[0;34m(\u001b[0m\u001b[0;34m*\u001b[0m\u001b[0margs\u001b[0m\u001b[0;34m,\u001b[0m \u001b[0mdata\u001b[0m\u001b[0;34m=\u001b[0m\u001b[0mdata\u001b[0m\u001b[0;34m,\u001b[0m \u001b[0;34m**\u001b[0m\u001b[0mkwargs\u001b[0m\u001b[0;34m)\u001b[0m\u001b[0;34m]\u001b[0m\u001b[0;34m\u001b[0m\u001b[0;34m\u001b[0m\u001b[0m\n\u001b[0m\u001b[1;32m   1648\u001b[0m         \u001b[0;32mfor\u001b[0m \u001b[0mline\u001b[0m \u001b[0;32min\u001b[0m \u001b[0mlines\u001b[0m\u001b[0;34m:\u001b[0m\u001b[0;34m\u001b[0m\u001b[0;34m\u001b[0m\u001b[0m\n\u001b[1;32m   1649\u001b[0m             \u001b[0mself\u001b[0m\u001b[0;34m.\u001b[0m\u001b[0madd_line\u001b[0m\u001b[0;34m(\u001b[0m\u001b[0mline\u001b[0m\u001b[0;34m)\u001b[0m\u001b[0;34m\u001b[0m\u001b[0;34m\u001b[0m\u001b[0m\n",
            "\u001b[0;32m/usr/local/lib/python3.7/dist-packages/matplotlib/axes/_base.py\u001b[0m in \u001b[0;36m__call__\u001b[0;34m(self, *args, **kwargs)\u001b[0m\n\u001b[1;32m    214\u001b[0m                 \u001b[0mthis\u001b[0m \u001b[0;34m+=\u001b[0m \u001b[0margs\u001b[0m\u001b[0;34m[\u001b[0m\u001b[0;36m0\u001b[0m\u001b[0;34m]\u001b[0m\u001b[0;34m,\u001b[0m\u001b[0;34m\u001b[0m\u001b[0;34m\u001b[0m\u001b[0m\n\u001b[1;32m    215\u001b[0m                 \u001b[0margs\u001b[0m \u001b[0;34m=\u001b[0m \u001b[0margs\u001b[0m\u001b[0;34m[\u001b[0m\u001b[0;36m1\u001b[0m\u001b[0;34m:\u001b[0m\u001b[0;34m]\u001b[0m\u001b[0;34m\u001b[0m\u001b[0;34m\u001b[0m\u001b[0m\n\u001b[0;32m--> 216\u001b[0;31m             \u001b[0;32myield\u001b[0m \u001b[0;32mfrom\u001b[0m \u001b[0mself\u001b[0m\u001b[0;34m.\u001b[0m\u001b[0m_plot_args\u001b[0m\u001b[0;34m(\u001b[0m\u001b[0mthis\u001b[0m\u001b[0;34m,\u001b[0m \u001b[0mkwargs\u001b[0m\u001b[0;34m)\u001b[0m\u001b[0;34m\u001b[0m\u001b[0;34m\u001b[0m\u001b[0m\n\u001b[0m\u001b[1;32m    217\u001b[0m \u001b[0;34m\u001b[0m\u001b[0m\n\u001b[1;32m    218\u001b[0m     \u001b[0;32mdef\u001b[0m \u001b[0mget_next_color\u001b[0m\u001b[0;34m(\u001b[0m\u001b[0mself\u001b[0m\u001b[0;34m)\u001b[0m\u001b[0;34m:\u001b[0m\u001b[0;34m\u001b[0m\u001b[0;34m\u001b[0m\u001b[0m\n",
            "\u001b[0;32m/usr/local/lib/python3.7/dist-packages/matplotlib/axes/_base.py\u001b[0m in \u001b[0;36m_plot_args\u001b[0;34m(self, tup, kwargs)\u001b[0m\n\u001b[1;32m    340\u001b[0m \u001b[0;34m\u001b[0m\u001b[0m\n\u001b[1;32m    341\u001b[0m         \u001b[0;32mif\u001b[0m \u001b[0mx\u001b[0m\u001b[0;34m.\u001b[0m\u001b[0mshape\u001b[0m\u001b[0;34m[\u001b[0m\u001b[0;36m0\u001b[0m\u001b[0;34m]\u001b[0m \u001b[0;34m!=\u001b[0m \u001b[0my\u001b[0m\u001b[0;34m.\u001b[0m\u001b[0mshape\u001b[0m\u001b[0;34m[\u001b[0m\u001b[0;36m0\u001b[0m\u001b[0;34m]\u001b[0m\u001b[0;34m:\u001b[0m\u001b[0;34m\u001b[0m\u001b[0;34m\u001b[0m\u001b[0m\n\u001b[0;32m--> 342\u001b[0;31m             raise ValueError(f\"x and y must have same first dimension, but \"\n\u001b[0m\u001b[1;32m    343\u001b[0m                              f\"have shapes {x.shape} and {y.shape}\")\n\u001b[1;32m    344\u001b[0m         \u001b[0;32mif\u001b[0m \u001b[0mx\u001b[0m\u001b[0;34m.\u001b[0m\u001b[0mndim\u001b[0m \u001b[0;34m>\u001b[0m \u001b[0;36m2\u001b[0m \u001b[0;32mor\u001b[0m \u001b[0my\u001b[0m\u001b[0;34m.\u001b[0m\u001b[0mndim\u001b[0m \u001b[0;34m>\u001b[0m \u001b[0;36m2\u001b[0m\u001b[0;34m:\u001b[0m\u001b[0;34m\u001b[0m\u001b[0;34m\u001b[0m\u001b[0m\n",
            "\u001b[0;31mValueError\u001b[0m: x and y must have same first dimension, but have shapes (20,) and (0,)"
          ]
        },
        {
          "data": {
            "image/png": "[encoded data removed]",
            "text/plain": [
              "<Figure size 432x288 with 1 Axes>"
            ]
          },
          "metadata": {},
          "output_type": "display_data"
        }
      ],
      "source": [
        "plt.plot(np.arange(0,20),main_train[0],color='red')\n",
        "plt.plot(np.arange(0,20),main_val[0],color='green')\n",
        "plt.plot(np.arange(0,20),main_test[0],color='blue')\n",
        "\n",
        "\n",
        "plt.title('Model accuracy')\n",
        "plt.ylabel('Accuracy')\n",
        "plt.title('Brain Cut Model (K = 10)')\n",
        "\n",
        "plt.xlabel('Epoch')\n",
        "plt.legend(['Train', 'Validation','Testing'], loc='upper left')\n",
        "plt.show()"
      ]
    },
    {
      "cell_type": "code",
      "execution_count": null,
      "metadata": {
        "colab": {
          "base_uri": "https://localhost:8080/"
        },
        "id": "_j9QuNyUkZUJ",
        "outputId": "24315fa2-dce2-43b9-fc91-f3b13da47ca0"
      },
      "outputs": [
        {
          "data": {
            "text/plain": [
              "[0.4765625,\n",
              " 0.625,\n",
              " 0.6015625,\n",
              " 0.6015625,\n",
              " 0.984375,\n",
              " 0.3203125,\n",
              " 0.3046875,\n",
              " 0.96875,\n",
              " 0.9296875,\n",
              " 0.671875,\n",
              " 0.625,\n",
              " 0.6796875,\n",
              " 0.9296875,\n",
              " 0.9765625,\n",
              " 0.9765625,\n",
              " 0.9609375,\n",
              " 0.9140625,\n",
              " 0.8125,\n",
              " 0.875,\n",
              " 0.859375]"
            ]
          },
          "execution_count": 10,
          "metadata": {},
          "output_type": "execute_result"
        }
      ],
      "source": [
        "main_train[1]"
      ]
    },
    {
      "cell_type": "code",
      "execution_count": null,
      "metadata": {
        "id": "1itNBF1Iw-bc"
      },
      "outputs": [],
      "source": []
    }
  ],
  "metadata": {
    "colab": {
      "collapsed_sections": [],
      "provenance": []
    },
    "kernelspec": {
      "display_name": "Python 3",
      "name": "python3"
    },
    "language_info": {
      "name": "python"
    }
  },
  "nbformat": 4,
  "nbformat_minor": 0
}