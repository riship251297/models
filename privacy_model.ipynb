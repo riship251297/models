{
  "cells": [
    {
      "cell_type": "code",
      "execution_count": null,
      "metadata": {
        "id": "LzdVkqnp__qy"
      },
      "outputs": [],
      "source": [
        "!unzip /content/drive/MyDrive/all_files.zip \n"
      ]
    },
    {
      "cell_type": "code",
      "execution_count": null,
      "metadata": {
        "id": "P4aRCf2tAElA"
      },
      "outputs": [],
      "source": [
        "mkdir /content/home/rishi"
      ]
    },
    {
      "cell_type": "code",
      "execution_count": null,
      "metadata": {
        "id": "A-ElGXCzAEns"
      },
      "outputs": [],
      "source": [
        "mkdir /content/home/rphatan/new_numpy_files"
      ]
    },
    {
      "cell_type": "code",
      "execution_count": null,
      "metadata": {
        "id": "UKQNMVyLAEqV"
      },
      "outputs": [],
      "source": [
        "mkdir /content/home/rphatan/new_numpy_files/face_cut"
      ]
    },
    {
      "cell_type": "code",
      "execution_count": null,
      "metadata": {
        "id": "k6Bx94-9AEs3"
      },
      "outputs": [],
      "source": [
        "mkdir /content/home/rphatan/new_numpy_files/face_cut/numpy_files"
      ]
    },
    {
      "cell_type": "code",
      "execution_count": null,
      "metadata": {
        "id": "7Sx64lsXAEve"
      },
      "outputs": [],
      "source": []
    },
    {
      "cell_type": "code",
      "execution_count": null,
      "metadata": {
        "id": "mhtNAtbNAEyE"
      },
      "outputs": [],
      "source": []
    },
    {
      "cell_type": "code",
      "execution_count": null,
      "metadata": {
        "id": "EkyVmbkHB0z1"
      },
      "outputs": [],
      "source": [
        "rm -r /content/home/rphatan/new_numpy_files/face_cut/"
      ]
    },
    {
      "cell_type": "code",
      "execution_count": null,
      "metadata": {
        "id": "9OiWiBOXWq52"
      },
      "outputs": [],
      "source": [
        "import matplotlib.pyplot as plt\n"
      ]
    },
    {
      "cell_type": "code",
      "execution_count": null,
      "metadata": {
        "id": "Q4tW9UfxRQz4"
      },
      "outputs": [],
      "source": []
    },
    {
      "cell_type": "code",
      "execution_count": null,
      "metadata": {
        "id": "Fnn6bBj8RQ5F"
      },
      "outputs": [],
      "source": [
        "import numpy as np"
      ]
    },
    {
      "cell_type": "code",
      "execution_count": null,
      "metadata": {
        "id": "l_Mu1Ka3RQ7a"
      },
      "outputs": [],
      "source": [
        "def get2Dprojection(original_image, axis=0):\n",
        "    \n",
        "    width = 128\n",
        "    height = 128\n",
        "    dim = (width, height)\n",
        "    \n",
        "    '''\n",
        "    original_image : 3D numpy array containing brain image\n",
        "    axis : 0 --> front, 1 --> bottom, 2 --> left, 3 --> right\n",
        "    '''\n",
        "    original_normalized = original_image/np.max(original_image)\n",
        "    size = np.shape(original_image)\n",
        "    if axis == 3:\n",
        "        original_normalized = np.flip(original_normalized, (1, 2))\n",
        "        image_size = [size[0], size[1]]\n",
        "    elif axis == 0:\n",
        "        image_size = [size[1], size[2]]\n",
        "    elif axis == 1:\n",
        "        original_normalized = np.flip(original_normalized, 1)\n",
        "        image_size = [size[0], size[2]]\n",
        "    else:\n",
        "        image_size = [size[0], size[1]]\n",
        "    image_outline = np.zeros(image_size)\n",
        "    image = np.zeros(image_size)\n",
        "    for i in range(image_size[0]):\n",
        "        for j in range(image_size[1]):\n",
        "            if axis == 0:\n",
        "                vector = original_normalized[:,i,j]\n",
        "            elif axis == 1:\n",
        "                vector = original_normalized[i,:,j]\n",
        "            else:\n",
        "                vector = original_normalized[i,j,:]\n",
        "            idx = (vector>0.05).argmax()\n",
        "            image_outline[i][j]=idx\n",
        "            image[i][j] = np.mean(vector[idx:idx+5])\n",
        "    if axis == 0:\n",
        "        image = np.flipud(image)/np.max(image)\n",
        "        image_outline = np.flipud(image_outline)/size[0] * 2\n",
        "    elif axis == 1:\n",
        "        image = image.T/np.max(image)\n",
        "        image_outline = image_outline.T/size[1] * 2\n",
        "    elif axis == 2:\n",
        "        image = np.flipud(image.T)/np.max(image)\n",
        "        image_outline = np.flipud(image_outline.T)/size[2] * 2\n",
        "    elif axis == 3:\n",
        "        image = np.fliplr((image.T))/np.max(image)\n",
        "        image_outline = np.fliplr(image_outline.T)/size[2] * 2\n",
        "    return cv2.resize(image, dim, interpolation = cv2.INTER_AREA), image_outline\n",
        "\n",
        "def run_2d_projection_main(files):\n",
        "    import nibabel as nib\n",
        "    import matplotlib.pyplot as plt\n",
        "    import sys\n",
        "    import glob\n",
        "\n",
        "  \n",
        "    for file in files:\n",
        "        #file='C:/Users/akash/OneDrive/Desktop/bse/IXI066-Guys-0731-T1_bse_cut.nii.gz'\n",
        "        original_image = nib.load(file).get_fdata()\n",
        "        original_image=np.nan_to_num(original_image)\n",
        "        image_front, image_outline_front = get2Dprojection(original_image, 0)\n",
        "        image_left, image_outline_left = get2Dprojection(original_image, 2)\n",
        "        image_right, image_outline_right = get2Dprojection(original_image, 3)\n",
        "        image_bottom, image_outline_bottom = get2Dprojection(original_image, 1)\n",
        "        #print(image_front.shape, image_left.shape, image_right.shape, image_bottom.shape)\n",
        "        \n",
        "        '''\n",
        "        return np.hstack((np.resize(image_front,(width, height, 1)), \n",
        "                          np.resize(image_left,(width, height, 1)),\n",
        "                          np.resize(image_right,(width, height, 1)), \n",
        "                          np.resize(image_bottom,(width, height, 1))))\n",
        "        \n",
        "        '''\n",
        "        fig=plt.figure(figsize=(14, 10))\n",
        "        columns = 4\n",
        "        rows = 2\n",
        "        ax=fig.add_subplot(rows, columns, 1)\n",
        "\n",
        "        plt.imshow(image_front, cmap='gray', vmin=0, vmax=1,aspect=\"auto\")\n",
        "        # plt.figure(facecolor='white')\n",
        "\n",
        "        fig.add_subplot(rows, columns, 2)\n",
        "        plt.imshow(image_left, cmap='gray', vmin=0, vmax=1,aspect=\"auto\")\n",
        "        fig.add_subplot(rows, columns, 3)\n",
        "        plt.imshow(image_right, cmap='gray', vmin=0, vmax=1,aspect=\"auto\")\n",
        "        fig.add_subplot(rows, columns, 4)\n",
        "        plt.imshow(image_bottom, cmap='gray', vmin=0, vmax=1,aspect=\"auto\")\n",
        "        savefile=file.split('/')[-1].split('.')[0]+'.png'\n",
        "        \n",
        "        plt.savefig(savefile, bbox_inches='tight',pad_inches = 0)\n",
        "        plt.close()\n",
        "        # print(\"Done: \"+str(savefile))\n",
        "        '''\n",
        "        #This code is for depth map\n",
        "        plt.subplot(245)\n",
        "        plt.imshow(image_outline_front, cmap='gray', vmin=0, vmax=1)\n",
        "        plt.subplot(246)\n",
        "        plt.imshow(image_outline_left, cmap='gray', vmin=0, vmax=1)\n",
        "        plt.subplot(247)\n",
        "        plt.imshow(image_outline_right, cmap='gray', vmin=0, vmax=1)\n",
        "        plt.subplot(248)\n",
        "        plt.imshow(image_outline_bottom, cmap='gray', vmin=0, vmax=1)\n",
        "        '''\n",
        "        #plt.show()\n",
        "\n"
      ]
    },
    {
      "cell_type": "code",
      "execution_count": null,
      "metadata": {
        "id": "BT90Cez_RRAW"
      },
      "outputs": [],
      "source": [
        "files = ['/content/imgid-7084-sub-3.nii0.1.nii.gz']\n",
        "import cv2\n",
        "run_2d_projection_main(files)\n",
        "\n",
        "\n"
      ]
    },
    {
      "cell_type": "code",
      "execution_count": null,
      "metadata": {
        "id": "_m8yFzKxl0dC"
      },
      "outputs": [],
      "source": []
    },
    {
      "cell_type": "code",
      "execution_count": null,
      "metadata": {
        "id": "KQh48sIhl0fq"
      },
      "outputs": [],
      "source": []
    },
    {
      "cell_type": "code",
      "execution_count": null,
      "metadata": {
        "id": "_3WYtiFFl0iQ"
      },
      "outputs": [],
      "source": [
        "\n",
        "import pandas as pd\n",
        "import glob\n",
        "import random\n",
        "import numpy as np\n",
        "import tensorflow as tf\n",
        "from tensorflow.keras import  layers,models\n",
        "from sklearn.model_selection import KFold \n",
        "import os\n",
        "import sklearn\n",
        "from sklearn.metrics import precision_score\n",
        "from sklearn.metrics import recall_score\n",
        "from sklearn.metrics import f1_score\n",
        "%matplotlib inline\n",
        "\n",
        "import matplotlib.pyplot as plt\n",
        "\n",
        "face_train_acc = []\n",
        "face_test_acc = []\n",
        "train_losses = []\n",
        "test_losses = []\n",
        "\n",
        "val_loss = []\n",
        "val_acc = []\n",
        "test_acc = []\n",
        "\n",
        "\n",
        "data=pd.read_csv('/content/combined.csv')\n",
        "\n",
        "face_votes = data['Recognizable-Facial-Feature'].to_list()\n",
        "\n",
        "\n",
        "face_votes_results = []\n",
        "data_dir = '/content/home/rphatan/all_files'\n",
        "full_2d_data = glob.glob(data_dir +'/*.png')\n",
        "SEED = 220\n",
        "random.seed(SEED)\n",
        "random.shuffle(full_2d_data)\n",
        "\n",
        "\n",
        "for index,item in enumerate(face_votes):\n",
        "  if face_votes[index] == 'Yes':\n",
        "      face_votes_results.append(1)\n",
        "  elif face_votes[index] == 'No':\n",
        "      face_votes_results.append(0)\n",
        "\n",
        "names = []\n",
        "for i in range(len(data)):\n",
        "    na = data['Filename'][i]\n",
        "    na = na.split('.')[0]\n",
        "    na = na + '.png'\n",
        "    names.append(na)\n",
        "    \n",
        "    \n",
        "face_cut_dict = {}\n",
        "for cur_index,files in enumerate(names):\n",
        "    face_cut_dict[files]=face_votes_results[cur_index]\n",
        "\n",
        "final_list=[]\n",
        "for files in full_2d_data:\n",
        "    key_to_search = files.split('/')[-1].strip()\n",
        "    if key_to_search in face_cut_dict:\n",
        "        final_list.append([files, face_cut_dict[key_to_search]])\n",
        "\n",
        "k = 10\n",
        "kf = KFold(n_splits=k,shuffle= True)\n",
        "img_height = 128\n",
        "img_width = 128\n",
        "df = pd.DataFrame(final_list)\n",
        "df.columns = ['name','data']\n",
        "X = df['name']\n",
        "y = df['data']\n",
        "\n",
        "\n",
        "def build_model():\n",
        "    face_model = models.Sequential()\n",
        "    face_model.add(layers.Conv2D(8, (5, 5),strides = 2 ,activation='relu',padding='same', input_shape=(128, 128, 1)))\n",
        "    face_model.add(layers.MaxPooling2D((2, 2),padding='same'))\n",
        "    face_model.add(layers.Conv2D(16, (3, 3),strides = 2, activation='relu',padding='same'))\n",
        "    face_model.add(layers.MaxPooling2D((2, 2),padding='same'))\n",
        "    face_model.add(layers.Conv2D(32, (3, 3),strides = 1, activation='relu',padding='same'))\n",
        "    face_model.add(layers.MaxPooling2D((2, 2),padding='same'))\n",
        "    \n",
        "    face_model.add(layers.Flatten())\n",
        "    face_model.add(layers.Dense(32, activation='relu'))\n",
        "    face_model.add(layers.Dense(1,activation='sigmoid'))\n",
        "    opt = tf.keras.optimizers.Adam(learning_rate=0.00001)\n",
        "    face_model.compile(optimizer=opt,\n",
        "              loss=tf.keras.losses.BinaryCrossentropy(from_logits=True),\n",
        "              metrics=['accuracy'])\n",
        "    \n",
        "    return face_model\n",
        "\n",
        "def random_minibatch(train_files,batch_size):\n",
        "    random_indices = np.random.choice(len(train_files), batch_size)\n",
        "    return random_indices\n",
        "\n",
        "\n",
        "main = []\n",
        "val = []\n",
        "path = '/content/home/rphatan/new_numpy_files/face_cut/numpy_files/'\n",
        "\n",
        "test_indices = np.random.choice(len(final_list), int(len(final_list) * 0.2)  , replace=False)\n",
        "testing_data = []\n",
        "\n",
        "iter = 0\n",
        "\n",
        "def model_training(train_files,validation_files,testing_data,current_k_value):\n",
        "  face_model = 0\n",
        "\n",
        "  face_model = build_model()\n",
        "\n",
        "  face_train_acc = []\n",
        "  val_acc = []\n",
        "  test_acc = []\n",
        "\n",
        "  train_losses = []\n",
        "  val_loss = []\n",
        "  test_losses = []\n",
        "\n",
        "  train_p = 0 \n",
        "  test_p = 0\n",
        "\n",
        "  for epoch in range(0,20,1): # BATCH SIZE IS SET TO 128.    1648 observations are go into training and validation, # 1484 - training and 164 testing, 412 testing\n",
        "    print(\"epoch ------------------\",epoch)\n",
        "    for epoch_iterations in range(0,25,1):\n",
        "\n",
        "      train_p = random_minibatch(train_files,64)\n",
        "      validation_p = random_minibatch(validation_files,64)\n",
        "      test_p = random_minibatch(test_indices,64)\n",
        "\n",
        "\n",
        "      train_data = []\n",
        "      validation_data = []\n",
        "      test_data = []\n",
        "\n",
        "      \n",
        "      for i in train_p:\n",
        "        train_data.append(train_files[i])\n",
        "\n",
        "      for i in validation_p:\n",
        "        validation_data.append(validation_files[i])\n",
        "\n",
        "      for i in test_p:\n",
        "        test_data.append(testing_data[i])\n",
        "\n",
        "\n",
        "      for i in test_data:\n",
        "        if i in train_data:\n",
        "          print(\"present in train data\")\n",
        "        elif i in validation_data:\n",
        "          print(\"present in validation data\")\n",
        "        \n",
        "\n",
        "\n",
        "    # <----------------------------------------------------------------------------------------------------------->\n",
        "      x_train=[]\n",
        "      y_train=[]\n",
        "\n",
        "      for files in train_data:\n",
        "          image = tf.keras.preprocessing.image.load_img(files[0],color_mode = \"grayscale\",interpolation='nearest', target_size=(img_height, img_width))\n",
        "          input_arr = tf.keras.preprocessing.image.img_to_array(image)\n",
        "          x_train.append([input_arr])\n",
        "          y_train.append([files[1]])\n",
        "\n",
        "      x_train_ = 0\n",
        "      y_train_ = 0\n",
        "      x_train_ = np.reshape(np.array(x_train, dtype='float32'),(len(x_train),img_height,img_width,1))\n",
        "      y_train_ = np.array(y_train, dtype='float32')\n",
        "\n",
        "\n",
        "    # <----------------------------------------------------------------------------------------------------------->\n",
        "      x_validation=[]\n",
        "      y_validation=[]\n",
        "\n",
        "      for files in validation_data:\n",
        "          image = tf.keras.preprocessing.image.load_img(files[0],color_mode = \"grayscale\",interpolation='nearest', \n",
        "                                                        target_size=(img_height, img_width))\n",
        "          input_arr = tf.keras.preprocessing.image.img_to_array(image)\n",
        "          x_validation.append([input_arr])\n",
        "          y_validation.append([files[1]])\n",
        "\n",
        "      x_validation_ = 0\n",
        "      y_validation_ = 0\n",
        "      x_validation_ = np.reshape(np.array(x_validation, dtype='float32'),(len(x_validation),img_height,img_width,1))\n",
        "      y_validation_ = np.array(y_validation, dtype='float32')\n",
        "\n",
        "    # <----------------------------------------------------------------------------------------------------------->\n",
        "      x_test = []\n",
        "      y_test = []\n",
        "      for files in test_data:\n",
        "          image = tf.keras.preprocessing.image.load_img(files[0],color_mode = \"grayscale\",interpolation='nearest', \n",
        "                                                        target_size=(img_height, img_width))\n",
        "          input_arr = tf.keras.preprocessing.image.img_to_array(image)\n",
        "          x_test.append([input_arr])\n",
        "          y_test.append([files[1]])\n",
        "\n",
        "      x_test_ = 0\n",
        "      y_test_ = 0\n",
        "      x_test_ = np.reshape(np.array(x_test, dtype='float32'),(len(x_test),img_height,img_width,1))\n",
        "      y_test_ = np.array(y_test, dtype='float32')\n",
        "\n",
        "\n",
        "    # <----------------------------------------------------------------------------------------------------------->\n",
        "\n",
        "      train_loss, train_accuracy = face_model.train_on_batch(x_train_, y_train_)\n",
        "      validation_loss, validation_accuracy = face_model.test_on_batch(x_validation_,y_validation_)\n",
        "      test_loss, test_accuracy = face_model.test_on_batch(x_test_,y_test_)\n",
        "\n",
        "  # <----------------------------------------------------------------------------------------------------------->\n",
        "\n",
        "      face_train_acc.append(train_accuracy)\n",
        "      train_losses.append(train_loss)\n",
        "  # <----------------------------------------------------------------------------------------------------------->\n",
        "\n",
        "      val_acc.append(validation_accuracy)\n",
        "      val_loss.append(validation_loss)\n",
        "  # <----------------------------------------------------------------------------------------------------------->\n",
        "\n",
        "      test_acc.append(test_accuracy)                                                                                                                                                                                                                                                                                                                                                                                                                                                                                                                                    \n",
        "      test_losses.append(test_loss)\n",
        "  \n",
        "  face_model.save('/content/'+ 'current_k_value' + str(iter) +'.h5')\n",
        "\n",
        "  return face_train_acc,val_acc,test_acc\n",
        "\n",
        "\n",
        "main_train = []\n",
        "main_test = []\n",
        "main_val = []\n",
        "k_iter = 1\n",
        "\n",
        "for train_index , validation_index in kf.split(X): # k different subsets of data ::::: 1484 -- training observations ::: 164 -- testing observations\n",
        "\n",
        "  train_files = []\n",
        "  validation_files = []\n",
        "  testing_data = []\n",
        "\n",
        "\n",
        "  for i in train_index:\n",
        "    if i in test_indices:\n",
        "      pass\n",
        "    else:\n",
        "      train_files.append(final_list[i])\n",
        "  \n",
        "  for i in validation_index:\n",
        "    if i in test_indices:\n",
        "      pass\n",
        "    else:\n",
        "      validation_files.append(final_list[i])\n",
        "\n",
        "  for i in test_indices:\n",
        "    testing_data.append(final_list[i])\n",
        "\n",
        "# <----------------------------------------------------------------------------------------------------------->\n",
        "\n",
        "  model_training_acc,model_val_acc,model_testing_acc = model_training(train_files,validation_files,testing_data,k_iter)\n",
        "  main_train.append(model_training_acc)\n",
        "  main_test.append(model_testing_acc)\n",
        "  main_val.append(model_val_acc)\n",
        "\n",
        "\n",
        "  iter += 1\n",
        "  \n",
        "\n",
        "      "
      ]
    },
    {
      "cell_type": "code",
      "execution_count": null,
      "metadata": {
        "id": "SQqCbYvUl0k2"
      },
      "outputs": [],
      "source": [
        "test_indices"
      ]
    },
    {
      "cell_type": "code",
      "execution_count": null,
      "metadata": {
        "id": "pUIGe_Jcl0qS"
      },
      "outputs": [],
      "source": [
        "testing_data = []\n",
        "for i in test_indices:\n",
        "  testing_data.append(final_list[i])"
      ]
    },
    {
      "cell_type": "code",
      "execution_count": null,
      "metadata": {
        "id": "7Z6WIUn_l0sp"
      },
      "outputs": [],
      "source": [
        "x_t = []\n",
        "y_t = []\n",
        "for files in testing_data:\n",
        "    image = tf.keras.preprocessing.image.load_img(files[0],color_mode = \"grayscale\",interpolation='nearest', \n",
        "                                                  target_size=(img_height, img_width))\n",
        "    input_arr = tf.keras.preprocessing.image.img_to_array(image)\n",
        "    x_t.append([input_arr])\n",
        "    y_t.append([files[1]])\n",
        "\n",
        "x_t_ = 0\n",
        "y_t_ = 0\n",
        "x_t_ = np.reshape(np.array(x_t, dtype='float32'),(len(x_t),img_height,img_width,1))\n",
        "y_t_ = np.array(y_t, dtype='float32')\n"
      ]
    },
    {
      "cell_type": "code",
      "execution_count": null,
      "metadata": {
        "id": "oTnBcjQjHVlN"
      },
      "outputs": [],
      "source": [
        "model1.summary()"
      ]
    },
    {
      "cell_type": "code",
      "execution_count": null,
      "metadata": {
        "id": "E1hHhzpEl0vR"
      },
      "outputs": [],
      "source": [
        "from tensorflow import keras\n",
        "model1 = tf.keras.models.load_model('/content/current_k_value0.h5')\n",
        "model2 = tf.keras.models.load_model('/content/current_k_value1.h5')\n",
        "model3 = tf.keras.models.load_model('/content/current_k_value2.h5')\n",
        "model4 = tf.keras.models.load_model('/content/current_k_value3.h5')\n",
        "model5 = tf.keras.models.load_model('/content/current_k_value4.h5')\n",
        "model6 = tf.keras.models.load_model('/content/current_k_value5.h5')\n",
        "model7 = tf.keras.models.load_model('/content/current_k_value6.h5')\n",
        "model8 = tf.keras.models.load_model('/content/current_k_value7.h5')\n",
        "model9 = tf.keras.models.load_model('/content/current_k_value8.h5')\n",
        "model10 = tf.keras.models.load_model('/content/current_k_value9.h5')\n",
        "\n",
        "y_pred1 = model1.predict(x_t_)\n",
        "y_pred2 = model2.predict(x_t_)\n",
        "y_pred3 = model3.predict(x_t_)\n",
        "y_pred4 = model4.predict(x_t_)\n",
        "y_pred5 = model5.predict(x_t_)\n",
        "y_pred6 = model6.predict(x_t_)\n",
        "y_pred7 = model7.predict(x_t_)\n",
        "y_pred8 = model8.predict(x_t_)\n",
        "y_pred9 = model9.predict(x_t_)\n",
        "y_pred10 = model10.predict(x_t_)\n",
        "\n",
        "\n",
        "confusion_matrix1 = sklearn.metrics.confusion_matrix(y_t_, np.rint(y_pred1))\n",
        "confusion_matrix2 = sklearn.metrics.confusion_matrix(y_t_, np.rint(y_pred2))\n",
        "confusion_matrix3 = sklearn.metrics.confusion_matrix(y_t_, np.rint(y_pred3))\n",
        "confusion_matrix4 = sklearn.metrics.confusion_matrix(y_t_, np.rint(y_pred4))\n",
        "confusion_matrix5 = sklearn.metrics.confusion_matrix(y_t_, np.rint(y_pred5))\n",
        "confusion_matrix6 = sklearn.metrics.confusion_matrix(y_t_, np.rint(y_pred6))\n",
        "confusion_matrix7 = sklearn.metrics.confusion_matrix(y_t_, np.rint(y_pred7))\n",
        "confusion_matrix8 = sklearn.metrics.confusion_matrix(y_t_, np.rint(y_pred8))\n",
        "confusion_matrix9 = sklearn.metrics.confusion_matrix(y_t_, np.rint(y_pred9))\n",
        "confusion_matrix10 = sklearn.metrics.confusion_matrix(y_t_, np.rint(y_pred10))\n",
        "\n",
        "auc1 = sklearn.metrics.roc_auc_score(y_t_, np.rint(y_pred1))\n",
        "auc2 = sklearn.metrics.roc_auc_score(y_t_, np.rint(y_pred2))\n",
        "auc3 = sklearn.metrics.roc_auc_score(y_t_, np.rint(y_pred3))\n",
        "auc4 = sklearn.metrics.roc_auc_score(y_t_, np.rint(y_pred4))\n",
        "auc5 = sklearn.metrics.roc_auc_score(y_t_, np.rint(y_pred5))\n",
        "auc6 = sklearn.metrics.roc_auc_score(y_t_, np.rint(y_pred6))\n",
        "auc7 = sklearn.metrics.roc_auc_score(y_t_, np.rint(y_pred7))\n",
        "auc8 = sklearn.metrics.roc_auc_score(y_t_, np.rint(y_pred8))\n",
        "auc9 = sklearn.metrics.roc_auc_score(y_t_, np.rint(y_pred9))\n",
        "auc10 = sklearn.metrics.roc_auc_score(y_t_, np.rint(y_pred10))\n",
        "\n",
        "fpr1, tpr1, threshold1 = sklearn.metrics.roc_curve(y_t_,  np.rint(y_pred1))\n",
        "fpr2, tpr2, threshold2 = sklearn.metrics.roc_curve(y_t_,  np.rint(y_pred2))\n",
        "fpr3, tpr3, threshold3 = sklearn.metrics.roc_curve(y_t_,  np.rint(y_pred3))\n",
        "fpr4, tpr4, threshold4 = sklearn.metrics.roc_curve(y_t_,  np.rint(y_pred4))\n",
        "fpr5, tpr5, threshold5 = sklearn.metrics.roc_curve(y_t_,  np.rint(y_pred5))\n",
        "fpr6, tpr6, threshold6 = sklearn.metrics.roc_curve(y_t_,  np.rint(y_pred6))\n",
        "fpr7, tpr7, threshold7 = sklearn.metrics.roc_curve(y_t_,  np.rint(y_pred7))\n",
        "fpr8, tpr8, threshold8 = sklearn.metrics.roc_curve(y_t_,  np.rint(y_pred8))\n",
        "fpr9, tpr9, threshold9 = sklearn.metrics.roc_curve(y_t_,  np.rint(y_pred9))\n",
        "fpr10, tpr10, threshold10 = sklearn.metrics.roc_curve(y_t_,  np.rint(y_pred10))\n",
        "\n"
      ]
    },
    {
      "cell_type": "code",
      "execution_count": null,
      "metadata": {
        "id": "xuWBbASL5Wid"
      },
      "outputs": [],
      "source": [
        "fpr1, tpr1, threshold1 = sklearn.metrics.roc_curve(y_t_,  np.round(y_pred1,2))\n",
        "fpr2, tpr2, threshold2 = sklearn.metrics.roc_curve(y_t_,  np.round(y_pred2,2))\n",
        "fpr3, tpr3, threshold3 = sklearn.metrics.roc_curve(y_t_,  np.round(y_pred3,2))\n",
        "fpr4, tpr4, threshold4 = sklearn.metrics.roc_curve(y_t_,  np.round(y_pred4,2))\n",
        "fpr5, tpr5, threshold5 = sklearn.metrics.roc_curve(y_t_,  np.round(y_pred5,2))\n",
        "fpr6, tpr6, threshold6 = sklearn.metrics.roc_curve(y_t_,  np.round(y_pred6,2))\n",
        "fpr7, tpr7, threshold7 = sklearn.metrics.roc_curve(y_t_,  np.round(y_pred7,2))\n",
        "fpr8, tpr8, threshold8 = sklearn.metrics.roc_curve(y_t_,  np.round(y_pred8,2))\n",
        "fpr9, tpr9, threshold9 = sklearn.metrics.roc_curve(y_t_,  np.round(y_pred9,2))\n",
        "fpr10, tpr10, threshold10 = sklearn.metrics.roc_curve(y_t_,  np.round(y_pred10,2))"
      ]
    },
    {
      "cell_type": "code",
      "execution_count": null,
      "metadata": {
        "colab": {
          "base_uri": "https://localhost:8080/",
          "height": 295
        },
        "id": "jRRhpdhXl0z_",
        "outputId": "cc41bb74-f229-4dde-d6b3-f87921f21892"
      },
      "outputs": [
        {
          "output_type": "display_data",
          "data": {
            "text/plain": [
              "<Figure size 432x288 with 1 Axes>"
            ],
            "image/png": "[encoded data removed]"
          },
          "metadata": {
            "needs_background": "light"
          }
        }
      ],
      "source": [
        "plt.title('Receiver Operating Characteristic')\n",
        "plt.plot(fpr1, tpr1, 'b')\n",
        "plt.plot(fpr2, tpr2, 'r')\n",
        "plt.plot(fpr3, tpr3, 'g')\n",
        "plt.plot(fpr4, tpr4, 'b')\n",
        "plt.plot(fpr5, tpr5, 'y')\n",
        "plt.plot(fpr6, tpr6, 'm')\n",
        "plt.plot(fpr7, tpr7, 'k')\n",
        "plt.plot(fpr8, tpr8, 'w')\n",
        "plt.plot(fpr9, tpr9, 'b')\n",
        "plt.plot(fpr10, tpr10, 'r')\n",
        "\n",
        "plt.plot([0, 1], [0, 1],'r--')\n",
        "plt.xlim([0, 1])\n",
        "plt.ylim([0, 1])\n",
        "plt.ylabel('True Positive Rate')\n",
        "plt.xlabel('False Positive Rate')\n",
        "plt.show()"
      ]
    },
    {
      "cell_type": "code",
      "execution_count": null,
      "metadata": {
        "id": "sTK1GJJOl02S"
      },
      "outputs": [],
      "source": [
        "a = [auc1,auc2,auc3,auc4,auc5,auc6,auc7,auc8,auc9,auc10]"
      ]
    },
    {
      "cell_type": "code",
      "execution_count": null,
      "metadata": {
        "colab": {
          "base_uri": "https://localhost:8080/"
        },
        "id": "ureCE2SYylmy",
        "outputId": "3850b727-671f-42e3-a304-6cff322c7ac5"
      },
      "outputs": [
        {
          "output_type": "execute_result",
          "data": {
            "text/plain": [
              "array([[265,  28],\n",
              "       [ 14, 105]])"
            ]
          },
          "metadata": {},
          "execution_count": 31
        }
      ],
      "source": [
        "confusion_matrix6"
      ]
    },
    {
      "cell_type": "code",
      "execution_count": null,
      "metadata": {
        "colab": {
          "base_uri": "https://localhost:8080/"
        },
        "id": "NMihA4j6l04q",
        "outputId": "1125701f-f99a-48bd-a288-daab614643f8"
      },
      "outputs": [
        {
          "output_type": "stream",
          "name": "stdout",
          "text": [
            "0.9390828003556371\n",
            "0.8496716092580376\n",
            "0.9197808816359309\n",
            "0.9482748730891675\n",
            "0.9281842429804686\n",
            "0.893394900622365\n",
            "0.9355407692087073\n",
            "0.93317463504173\n",
            "0.9084951386698022\n",
            "0.8876157971721113\n"
          ]
        }
      ],
      "source": [
        "for i in a:\n",
        "  print(i)"
      ]
    },
    {
      "cell_type": "code",
      "execution_count": null,
      "metadata": {
        "colab": {
          "base_uri": "https://localhost:8080/"
        },
        "id": "_LUvqQL6fN9t",
        "outputId": "b178c706-2bb4-45b3-a231-89e3ea4cff0f"
      },
      "outputs": [
        {
          "output_type": "stream",
          "name": "stdout",
          "text": [
            "0.941747572815534\n",
            "0.8713592233009708\n",
            "0.9320388349514563\n",
            "0.9441747572815534\n",
            "0.9368932038834952\n",
            "0.8980582524271845\n",
            "0.9296116504854369\n",
            "0.9368932038834952\n",
            "0.9053398058252428\n",
            "0.9004854368932039\n",
            "-----------------------------------------------------------------\n",
            "0.8740157480314961\n",
            "0.7661290322580645\n",
            "0.8760330578512396\n",
            "0.8636363636363636\n",
            "0.8780487804878049\n",
            "0.7894736842105263\n",
            "0.8308823529411765\n",
            "0.8661417322834646\n",
            "0.7898550724637681\n",
            "0.8095238095238095\n",
            "-----------------------------------------------------------------\n",
            "0.9327731092436975\n",
            "0.7983193277310925\n",
            "0.8907563025210085\n",
            "0.957983193277311\n",
            "0.907563025210084\n",
            "0.8823529411764706\n",
            "0.9495798319327731\n",
            "0.9243697478991597\n",
            "0.9159663865546218\n",
            "0.8571428571428571\n",
            "-----------------------------------------------------------------\n",
            "0.9024390243902439\n",
            "0.7818930041152263\n",
            "0.8833333333333333\n",
            "0.9083665338645418\n",
            "0.8925619834710744\n",
            "0.8333333333333333\n",
            "0.8862745098039216\n",
            "0.894308943089431\n",
            "0.8482490272373541\n",
            "0.8326530612244899\n"
          ]
        }
      ],
      "source": [
        "print(sklearn.metrics.accuracy_score(y_t,np.rint(y_pred1)))\n",
        "print(sklearn.metrics.accuracy_score(y_t,np.rint(y_pred2)))\n",
        "print(sklearn.metrics.accuracy_score(y_t,np.rint(y_pred3)))\n",
        "print(sklearn.metrics.accuracy_score(y_t,np.rint(y_pred4)))\n",
        "print(sklearn.metrics.accuracy_score(y_t,np.rint(y_pred5)))\n",
        "print(sklearn.metrics.accuracy_score(y_t,np.rint(y_pred6)))\n",
        "print(sklearn.metrics.accuracy_score(y_t,np.rint(y_pred7)))\n",
        "print(sklearn.metrics.accuracy_score(y_t,np.rint(y_pred8)))\n",
        "print(sklearn.metrics.accuracy_score(y_t,np.rint(y_pred9)))\n",
        "print(sklearn.metrics.accuracy_score(y_t,np.rint(y_pred10)))\n",
        "\n",
        "print(\"-----------------------------------------------------------------\")\n",
        "\n",
        "print(sklearn.metrics.precision_score(y_t_,np.rint(y_pred1)))\n",
        "print(sklearn.metrics.precision_score(y_t_,np.rint(y_pred2)))\n",
        "print(sklearn.metrics.precision_score(y_t_,np.rint(y_pred3)))\n",
        "print(sklearn.metrics.precision_score(y_t_,np.rint(y_pred4)))\n",
        "print(sklearn.metrics.precision_score(y_t_,np.rint(y_pred5)))\n",
        "print(sklearn.metrics.precision_score(y_t_,np.rint(y_pred6)))\n",
        "print(sklearn.metrics.precision_score(y_t_,np.rint(y_pred7)))\n",
        "print(sklearn.metrics.precision_score(y_t_,np.rint(y_pred8)))\n",
        "print(sklearn.metrics.precision_score(y_t_,np.rint(y_pred9)))\n",
        "print(sklearn.metrics.precision_score(y_t_,np.rint(y_pred10)))\n",
        "print(\"-----------------------------------------------------------------\")\n",
        "print(sklearn.metrics.recall_score(y_t_,np.rint(y_pred1)))\n",
        "print(sklearn.metrics.recall_score(y_t_,np.rint(y_pred2)))\n",
        "print(sklearn.metrics.recall_score(y_t_,np.rint(y_pred3)))\n",
        "print(sklearn.metrics.recall_score(y_t_,np.rint(y_pred4)))\n",
        "print(sklearn.metrics.recall_score(y_t_,np.rint(y_pred5)))\n",
        "print(sklearn.metrics.recall_score(y_t_,np.rint(y_pred6)))\n",
        "print(sklearn.metrics.recall_score(y_t_,np.rint(y_pred7)))\n",
        "print(sklearn.metrics.recall_score(y_t_,np.rint(y_pred8)))\n",
        "print(sklearn.metrics.recall_score(y_t_,np.rint(y_pred9)))\n",
        "print(sklearn.metrics.recall_score(y_t_,np.rint(y_pred10)))\n",
        "\n",
        "print(\"-----------------------------------------------------------------\")\n",
        "print(sklearn.metrics.f1_score(y_t_,np.rint(y_pred1)))\n",
        "print(sklearn.metrics.f1_score(y_t_,np.rint(y_pred2)))\n",
        "print(sklearn.metrics.f1_score(y_t_,np.rint(y_pred3)))\n",
        "print(sklearn.metrics.f1_score(y_t_,np.rint(y_pred4)))\n",
        "print(sklearn.metrics.f1_score(y_t_,np.rint(y_pred5)))\n",
        "print(sklearn.metrics.f1_score(y_t_,np.rint(y_pred6)))\n",
        "print(sklearn.metrics.f1_score(y_t_,np.rint(y_pred7)))\n",
        "print(sklearn.metrics.f1_score(y_t_,np.rint(y_pred8)))\n",
        "print(sklearn.metrics.f1_score(y_t_,np.rint(y_pred9)))\n",
        "print(sklearn.metrics.f1_score(y_t_,np.rint(y_pred10)))"
      ]
    },
    {
      "cell_type": "code",
      "execution_count": null,
      "metadata": {
        "id": "Q-chzPo_D7mY"
      },
      "outputs": [],
      "source": [
        "!pip install plot-metric"
      ]
    },
    {
      "cell_type": "code",
      "execution_count": null,
      "metadata": {
        "colab": {
          "base_uri": "https://localhost:8080/",
          "height": 283
        },
        "id": "zQ-IMJUo0NIu",
        "outputId": "d6eabe56-2f9d-4907-ce72-e26c836f1179"
      },
      "outputs": [
        {
          "data": {
            "text/plain": [
              "<matplotlib.collections.PathCollection at 0x7f6d97ac9990>"
            ]
          },
          "execution_count": 35,
          "metadata": {},
          "output_type": "execute_result"
        },
        {
          "data": {
            "image/png": "[encoded data removed]",
            "text/plain": [
              "<Figure size 432x288 with 1 Axes>"
            ]
          },
          "metadata": {},
          "output_type": "display_data"
        }
      ],
      "source": [
        "plt.scatter(np.arange(0,10),y_t_[0:10])\n",
        "plt.scatter(np.arange(0,10),y_pred1[0:10])"
      ]
    },
    {
      "cell_type": "code",
      "execution_count": null,
      "metadata": {
        "colab": {
          "base_uri": "https://localhost:8080/",
          "height": 706
        },
        "id": "Xeo4hFY5zcou",
        "outputId": "94c98385-5a62-4d66-b0c4-c65f01728228"
      },
      "outputs": [
        {
          "data": {
            "image/png": "[encoded data removed]",
            "text/plain": [
              "<Figure size 1000x800 with 1 Axes>"
            ]
          },
          "metadata": {},
          "output_type": "display_data"
        }
      ],
      "source": [
        "plt.figure(figsize=(10, 8), dpi=100)\n",
        "plt.axis('scaled')\n",
        "plt.xlim([0, 1])\n",
        "plt.ylim([0, 1])\n",
        "plt.title(\"AUC & ROC Curve\")\n",
        "plt.plot(fpr3, tpr3, 'g')\n",
        "plt.fill_between(fpr3, tpr3, facecolor='lightgreen', alpha=0.7)\n",
        "plt.text(0.95, 0.05, 'AUC = %0.4f' % auc3, ha='right', fontsize=12, weight='bold', color='blue')\n",
        "plt.xlabel(\"False Positive Rate\")\n",
        "plt.ylabel(\"True Positive Rate\")\n",
        "plt.show()"
      ]
    },
    {
      "cell_type": "code",
      "execution_count": null,
      "metadata": {
        "id": "Ue2VSrkOD7tu"
      },
      "outputs": [],
      "source": []
    },
    {
      "cell_type": "code",
      "execution_count": null,
      "metadata": {
        "colab": {
          "base_uri": "https://localhost:8080/",
          "height": 312
        },
        "id": "AZ_AC_8QfRWF",
        "outputId": "e1ca5646-d469-47e9-e74e-445f468206d9"
      },
      "outputs": [
        {
          "output_type": "execute_result",
          "data": {
            "text/plain": [
              "Text(0.5, 0, 'Observations')"
            ]
          },
          "metadata": {},
          "execution_count": 26
        },
        {
          "output_type": "display_data",
          "data": {
            "text/plain": [
              "<Figure size 432x288 with 1 Axes>"
            ],
            "image/png": "[encoded data removed]"
          },
          "metadata": {
            "needs_background": "light"
          }
        }
      ],
      "source": [
        "import matplotlib.pyplot as plt\n",
        "plt.scatter(np.arange(0,40),y_t_[0:40])\n",
        "plt.scatter(np.arange(0,40),y_pred6[0:40])\n",
        "plt.title(\"ACTUAL VS PREDICTED\")\n",
        "plt.xlabel(\"Observations\")\n"
      ]
    },
    {
      "cell_type": "code",
      "execution_count": null,
      "metadata": {
        "id": "kYi9sG0ZfRYw"
      },
      "outputs": [],
      "source": [
        "not good - 0,3,5,6,7,8,9\n",
        "\n",
        "good - 1,2,4"
      ]
    },
    {
      "cell_type": "code",
      "execution_count": null,
      "metadata": {
        "colab": {
          "base_uri": "https://localhost:8080/",
          "height": 295
        },
        "id": "M9HbSD_2LxPq",
        "outputId": "2da81e73-c07e-42bc-c989-1349d293515b"
      },
      "outputs": [
        {
          "output_type": "display_data",
          "data": {
            "text/plain": [
              "<Figure size 432x288 with 1 Axes>"
            ],
            "image/png": "[encoded data removed]"
          },
          "metadata": {
            "needs_background": "light"
          }
        }
      ],
      "source": [
        "plt.plot(np.arange(0,500),main_train[7],color='red')\n",
        "plt.plot(np.arange(0,500),main_val[7],color='green')\n",
        "plt.plot(np.arange(0,500),main_test[7],color='blue')\n",
        "\n",
        "\n",
        "plt.title('Model accuracy')\n",
        "plt.ylabel('Accuracy')\n",
        "plt.title('Privacy Model')\n",
        "\n",
        "plt.xlabel('Epoch')\n",
        "plt.legend(['Train', 'Validation','Testing'], loc='upper left')\n",
        "plt.show()"
      ]
    },
    {
      "cell_type": "code",
      "execution_count": null,
      "metadata": {
        "id": "tvQvxgJpfRb4"
      },
      "outputs": [],
      "source": []
    },
    {
      "cell_type": "code",
      "execution_count": null,
      "metadata": {
        "id": "q8k1PkwsfRei"
      },
      "outputs": [],
      "source": []
    },
    {
      "cell_type": "code",
      "execution_count": null,
      "metadata": {
        "id": "iOHyAIxlfOA3"
      },
      "outputs": [],
      "source": []
    },
    {
      "cell_type": "code",
      "execution_count": null,
      "metadata": {
        "id": "L2WNluGffODc"
      },
      "outputs": [],
      "source": []
    },
    {
      "cell_type": "code",
      "execution_count": null,
      "metadata": {
        "colab": {
          "base_uri": "https://localhost:8080/",
          "height": 235
        },
        "id": "dJ5_bbecjhhZ",
        "outputId": "7298f8df-69e7-4be7-d0e3-b7b76d4a2853"
      },
      "outputs": [
        {
          "ename": "NameError",
          "evalue": "ignored",
          "output_type": "error",
          "traceback": [
            "\u001b[0;31m---------------------------------------------------------------------------\u001b[0m",
            "\u001b[0;31mNameError\u001b[0m                                 Traceback (most recent call last)",
            "\u001b[0;32m<ipython-input-7-f9c227c9f2ad>\u001b[0m in \u001b[0;36m<module>\u001b[0;34m()\u001b[0m\n\u001b[0;32m----> 1\u001b[0;31m \u001b[0mplt\u001b[0m\u001b[0;34m.\u001b[0m\u001b[0mplot\u001b[0m\u001b[0;34m(\u001b[0m\u001b[0mnp\u001b[0m\u001b[0;34m.\u001b[0m\u001b[0marange\u001b[0m\u001b[0;34m(\u001b[0m\u001b[0;36m0\u001b[0m\u001b[0;34m,\u001b[0m\u001b[0;36m500\u001b[0m\u001b[0;34m)\u001b[0m\u001b[0;34m,\u001b[0m\u001b[0mface_train_acc\u001b[0m\u001b[0;34m,\u001b[0m\u001b[0mcolor\u001b[0m\u001b[0;34m=\u001b[0m\u001b[0;34m'red'\u001b[0m\u001b[0;34m)\u001b[0m\u001b[0;34m\u001b[0m\u001b[0;34m\u001b[0m\u001b[0m\n\u001b[0m\u001b[1;32m      2\u001b[0m \u001b[0mplt\u001b[0m\u001b[0;34m.\u001b[0m\u001b[0mplot\u001b[0m\u001b[0;34m(\u001b[0m\u001b[0mnp\u001b[0m\u001b[0;34m.\u001b[0m\u001b[0marange\u001b[0m\u001b[0;34m(\u001b[0m\u001b[0;36m0\u001b[0m\u001b[0;34m,\u001b[0m\u001b[0;36m500\u001b[0m\u001b[0;34m)\u001b[0m\u001b[0;34m,\u001b[0m\u001b[0mval_acc\u001b[0m\u001b[0;34m,\u001b[0m\u001b[0mcolor\u001b[0m\u001b[0;34m=\u001b[0m\u001b[0;34m'green'\u001b[0m\u001b[0;34m)\u001b[0m\u001b[0;34m\u001b[0m\u001b[0;34m\u001b[0m\u001b[0m\n\u001b[1;32m      3\u001b[0m \u001b[0mplt\u001b[0m\u001b[0;34m.\u001b[0m\u001b[0mplot\u001b[0m\u001b[0;34m(\u001b[0m\u001b[0mnp\u001b[0m\u001b[0;34m.\u001b[0m\u001b[0marange\u001b[0m\u001b[0;34m(\u001b[0m\u001b[0;36m0\u001b[0m\u001b[0;34m,\u001b[0m\u001b[0;36m500\u001b[0m\u001b[0;34m)\u001b[0m\u001b[0;34m,\u001b[0m\u001b[0mtest_acc\u001b[0m\u001b[0;34m,\u001b[0m\u001b[0mcolor\u001b[0m\u001b[0;34m=\u001b[0m\u001b[0;34m'blue'\u001b[0m\u001b[0;34m)\u001b[0m\u001b[0;34m\u001b[0m\u001b[0;34m\u001b[0m\u001b[0m\n\u001b[1;32m      4\u001b[0m \u001b[0;34m\u001b[0m\u001b[0m\n\u001b[1;32m      5\u001b[0m \u001b[0;34m\u001b[0m\u001b[0m\n",
            "\u001b[0;31mNameError\u001b[0m: name 'face_train_acc' is not defined"
          ]
        }
      ],
      "source": [
        "plt.plot(np.arange(0,500),face_train_acc,color='red')\n",
        "plt.plot(np.arange(0,500),val_acc,color='green')\n",
        "plt.plot(np.arange(0,500),test_acc,color='blue')\n",
        "\n",
        "\n",
        "plt.title('Model accuracy')\n",
        "plt.ylabel('Accuracy')\n",
        "plt.title('Face Cut Model (K = 10)')\n",
        "\n",
        "plt.xlabel('Epoch')\n",
        "plt.legend(['Train', 'Validation','Testing'], loc='upper left')\n",
        "plt.show()"
      ]
    },
    {
      "cell_type": "code",
      "execution_count": null,
      "metadata": {
        "colab": {
          "base_uri": "https://localhost:8080/",
          "height": 633
        },
        "id": "br9NCRvljhkB",
        "outputId": "109005df-c031-4d33-b661-5795ef74d328"
      },
      "outputs": [
        {
          "ename": "ValueError",
          "evalue": "ignored",
          "output_type": "error",
          "traceback": [
            "\u001b[0;31m---------------------------------------------------------------------------\u001b[0m",
            "\u001b[0;31mValueError\u001b[0m                                Traceback (most recent call last)",
            "\u001b[0;32m<ipython-input-21-a32700e7fe7b>\u001b[0m in \u001b[0;36m<module>\u001b[0;34m()\u001b[0m\n\u001b[0;32m----> 1\u001b[0;31m \u001b[0mplt\u001b[0m\u001b[0;34m.\u001b[0m\u001b[0mplot\u001b[0m\u001b[0;34m(\u001b[0m\u001b[0mnp\u001b[0m\u001b[0;34m.\u001b[0m\u001b[0marange\u001b[0m\u001b[0;34m(\u001b[0m\u001b[0;36m0\u001b[0m\u001b[0;34m,\u001b[0m\u001b[0;36m260\u001b[0m\u001b[0;34m)\u001b[0m\u001b[0;34m,\u001b[0m\u001b[0mtrain_losses\u001b[0m\u001b[0;34m,\u001b[0m\u001b[0mcolor\u001b[0m\u001b[0;34m=\u001b[0m\u001b[0;34m'red'\u001b[0m\u001b[0;34m)\u001b[0m\u001b[0;34m\u001b[0m\u001b[0;34m\u001b[0m\u001b[0m\n\u001b[0m\u001b[1;32m      2\u001b[0m \u001b[0mplt\u001b[0m\u001b[0;34m.\u001b[0m\u001b[0mplot\u001b[0m\u001b[0;34m(\u001b[0m\u001b[0mnp\u001b[0m\u001b[0;34m.\u001b[0m\u001b[0marange\u001b[0m\u001b[0;34m(\u001b[0m\u001b[0;36m0\u001b[0m\u001b[0;34m,\u001b[0m\u001b[0;36m260\u001b[0m\u001b[0;34m)\u001b[0m\u001b[0;34m,\u001b[0m\u001b[0mval_loss\u001b[0m\u001b[0;34m,\u001b[0m\u001b[0mcolor\u001b[0m\u001b[0;34m=\u001b[0m\u001b[0;34m'green'\u001b[0m\u001b[0;34m)\u001b[0m\u001b[0;34m\u001b[0m\u001b[0;34m\u001b[0m\u001b[0m\n\u001b[1;32m      3\u001b[0m \u001b[0mplt\u001b[0m\u001b[0;34m.\u001b[0m\u001b[0mplot\u001b[0m\u001b[0;34m(\u001b[0m\u001b[0mnp\u001b[0m\u001b[0;34m.\u001b[0m\u001b[0marange\u001b[0m\u001b[0;34m(\u001b[0m\u001b[0;36m0\u001b[0m\u001b[0;34m,\u001b[0m\u001b[0;36m260\u001b[0m\u001b[0;34m)\u001b[0m\u001b[0;34m,\u001b[0m\u001b[0mtest_losses\u001b[0m\u001b[0;34m,\u001b[0m\u001b[0mcolor\u001b[0m\u001b[0;34m=\u001b[0m\u001b[0;34m'blue'\u001b[0m\u001b[0;34m)\u001b[0m\u001b[0;34m\u001b[0m\u001b[0;34m\u001b[0m\u001b[0m\n\u001b[1;32m      4\u001b[0m \u001b[0;34m\u001b[0m\u001b[0m\n\u001b[1;32m      5\u001b[0m \u001b[0mplt\u001b[0m\u001b[0;34m.\u001b[0m\u001b[0mtitle\u001b[0m\u001b[0;34m(\u001b[0m\u001b[0;34m'Face Cut Model (K = 10)'\u001b[0m\u001b[0;34m)\u001b[0m\u001b[0;34m\u001b[0m\u001b[0;34m\u001b[0m\u001b[0m\n",
            "\u001b[0;32m/usr/local/lib/python3.7/dist-packages/matplotlib/pyplot.py\u001b[0m in \u001b[0;36mplot\u001b[0;34m(scalex, scaley, data, *args, **kwargs)\u001b[0m\n\u001b[1;32m   2761\u001b[0m     return gca().plot(\n\u001b[1;32m   2762\u001b[0m         *args, scalex=scalex, scaley=scaley, **({\"data\": data} if data\n\u001b[0;32m-> 2763\u001b[0;31m         is not None else {}), **kwargs)\n\u001b[0m\u001b[1;32m   2764\u001b[0m \u001b[0;34m\u001b[0m\u001b[0m\n\u001b[1;32m   2765\u001b[0m \u001b[0;34m\u001b[0m\u001b[0m\n",
            "\u001b[0;32m/usr/local/lib/python3.7/dist-packages/matplotlib/axes/_axes.py\u001b[0m in \u001b[0;36mplot\u001b[0;34m(self, scalex, scaley, data, *args, **kwargs)\u001b[0m\n\u001b[1;32m   1645\u001b[0m         \"\"\"\n\u001b[1;32m   1646\u001b[0m         \u001b[0mkwargs\u001b[0m \u001b[0;34m=\u001b[0m \u001b[0mcbook\u001b[0m\u001b[0;34m.\u001b[0m\u001b[0mnormalize_kwargs\u001b[0m\u001b[0;34m(\u001b[0m\u001b[0mkwargs\u001b[0m\u001b[0;34m,\u001b[0m \u001b[0mmlines\u001b[0m\u001b[0;34m.\u001b[0m\u001b[0mLine2D\u001b[0m\u001b[0;34m)\u001b[0m\u001b[0;34m\u001b[0m\u001b[0;34m\u001b[0m\u001b[0m\n\u001b[0;32m-> 1647\u001b[0;31m         \u001b[0mlines\u001b[0m \u001b[0;34m=\u001b[0m \u001b[0;34m[\u001b[0m\u001b[0;34m*\u001b[0m\u001b[0mself\u001b[0m\u001b[0;34m.\u001b[0m\u001b[0m_get_lines\u001b[0m\u001b[0;34m(\u001b[0m\u001b[0;34m*\u001b[0m\u001b[0margs\u001b[0m\u001b[0;34m,\u001b[0m \u001b[0mdata\u001b[0m\u001b[0;34m=\u001b[0m\u001b[0mdata\u001b[0m\u001b[0;34m,\u001b[0m \u001b[0;34m**\u001b[0m\u001b[0mkwargs\u001b[0m\u001b[0;34m)\u001b[0m\u001b[0;34m]\u001b[0m\u001b[0;34m\u001b[0m\u001b[0;34m\u001b[0m\u001b[0m\n\u001b[0m\u001b[1;32m   1648\u001b[0m         \u001b[0;32mfor\u001b[0m \u001b[0mline\u001b[0m \u001b[0;32min\u001b[0m \u001b[0mlines\u001b[0m\u001b[0;34m:\u001b[0m\u001b[0;34m\u001b[0m\u001b[0;34m\u001b[0m\u001b[0m\n\u001b[1;32m   1649\u001b[0m             \u001b[0mself\u001b[0m\u001b[0;34m.\u001b[0m\u001b[0madd_line\u001b[0m\u001b[0;34m(\u001b[0m\u001b[0mline\u001b[0m\u001b[0;34m)\u001b[0m\u001b[0;34m\u001b[0m\u001b[0;34m\u001b[0m\u001b[0m\n",
            "\u001b[0;32m/usr/local/lib/python3.7/dist-packages/matplotlib/axes/_base.py\u001b[0m in \u001b[0;36m__call__\u001b[0;34m(self, *args, **kwargs)\u001b[0m\n\u001b[1;32m    214\u001b[0m                 \u001b[0mthis\u001b[0m \u001b[0;34m+=\u001b[0m \u001b[0margs\u001b[0m\u001b[0;34m[\u001b[0m\u001b[0;36m0\u001b[0m\u001b[0;34m]\u001b[0m\u001b[0;34m,\u001b[0m\u001b[0;34m\u001b[0m\u001b[0;34m\u001b[0m\u001b[0m\n\u001b[1;32m    215\u001b[0m                 \u001b[0margs\u001b[0m \u001b[0;34m=\u001b[0m \u001b[0margs\u001b[0m\u001b[0;34m[\u001b[0m\u001b[0;36m1\u001b[0m\u001b[0;34m:\u001b[0m\u001b[0;34m]\u001b[0m\u001b[0;34m\u001b[0m\u001b[0;34m\u001b[0m\u001b[0m\n\u001b[0;32m--> 216\u001b[0;31m             \u001b[0;32myield\u001b[0m \u001b[0;32mfrom\u001b[0m \u001b[0mself\u001b[0m\u001b[0;34m.\u001b[0m\u001b[0m_plot_args\u001b[0m\u001b[0;34m(\u001b[0m\u001b[0mthis\u001b[0m\u001b[0;34m,\u001b[0m \u001b[0mkwargs\u001b[0m\u001b[0;34m)\u001b[0m\u001b[0;34m\u001b[0m\u001b[0;34m\u001b[0m\u001b[0m\n\u001b[0m\u001b[1;32m    217\u001b[0m \u001b[0;34m\u001b[0m\u001b[0m\n\u001b[1;32m    218\u001b[0m     \u001b[0;32mdef\u001b[0m \u001b[0mget_next_color\u001b[0m\u001b[0;34m(\u001b[0m\u001b[0mself\u001b[0m\u001b[0;34m)\u001b[0m\u001b[0;34m:\u001b[0m\u001b[0;34m\u001b[0m\u001b[0;34m\u001b[0m\u001b[0m\n",
            "\u001b[0;32m/usr/local/lib/python3.7/dist-packages/matplotlib/axes/_base.py\u001b[0m in \u001b[0;36m_plot_args\u001b[0;34m(self, tup, kwargs)\u001b[0m\n\u001b[1;32m    340\u001b[0m \u001b[0;34m\u001b[0m\u001b[0m\n\u001b[1;32m    341\u001b[0m         \u001b[0;32mif\u001b[0m \u001b[0mx\u001b[0m\u001b[0;34m.\u001b[0m\u001b[0mshape\u001b[0m\u001b[0;34m[\u001b[0m\u001b[0;36m0\u001b[0m\u001b[0;34m]\u001b[0m \u001b[0;34m!=\u001b[0m \u001b[0my\u001b[0m\u001b[0;34m.\u001b[0m\u001b[0mshape\u001b[0m\u001b[0;34m[\u001b[0m\u001b[0;36m0\u001b[0m\u001b[0;34m]\u001b[0m\u001b[0;34m:\u001b[0m\u001b[0;34m\u001b[0m\u001b[0;34m\u001b[0m\u001b[0m\n\u001b[0;32m--> 342\u001b[0;31m             raise ValueError(f\"x and y must have same first dimension, but \"\n\u001b[0m\u001b[1;32m    343\u001b[0m                              f\"have shapes {x.shape} and {y.shape}\")\n\u001b[1;32m    344\u001b[0m         \u001b[0;32mif\u001b[0m \u001b[0mx\u001b[0m\u001b[0;34m.\u001b[0m\u001b[0mndim\u001b[0m \u001b[0;34m>\u001b[0m \u001b[0;36m2\u001b[0m \u001b[0;32mor\u001b[0m \u001b[0my\u001b[0m\u001b[0;34m.\u001b[0m\u001b[0mndim\u001b[0m \u001b[0;34m>\u001b[0m \u001b[0;36m2\u001b[0m\u001b[0;34m:\u001b[0m\u001b[0;34m\u001b[0m\u001b[0;34m\u001b[0m\u001b[0m\n",
            "\u001b[0;31mValueError\u001b[0m: x and y must have same first dimension, but have shapes (260,) and (0,)"
          ]
        },
        {
          "data": {
            "image/png": "[encoded data removed]",
            "text/plain": [
              "<Figure size 432x288 with 1 Axes>"
            ]
          },
          "metadata": {},
          "output_type": "display_data"
        }
      ],
      "source": [
        "plt.plot(np.arange(0,260),train_losses,color='red')\n",
        "plt.plot(np.arange(0,260),val_loss,color='green')\n",
        "plt.plot(np.arange(0,260),test_losses,color='blue')\n",
        "\n",
        "plt.title('Face Cut Model (K = 10)')\n",
        "plt.ylabel('Loss')\n",
        "\n",
        "plt.xlabel('Epoch')\n",
        "plt.legend(['Train','Validation','Test'], loc='upper left')\n",
        "plt.show()"
      ]
    },
    {
      "cell_type": "code",
      "execution_count": null,
      "metadata": {
        "id": "QreC774Hjhmo"
      },
      "outputs": [],
      "source": [
        "daa"
      ]
    },
    {
      "cell_type": "code",
      "execution_count": null,
      "metadata": {
        "id": "lKDngXXBi-cJ"
      },
      "outputs": [],
      "source": []
    },
    {
      "cell_type": "code",
      "execution_count": null,
      "metadata": {
        "id": "zyEbjEfai-e8"
      },
      "outputs": [],
      "source": []
    },
    {
      "cell_type": "code",
      "execution_count": null,
      "metadata": {
        "id": "Piefp-Y8i-hj"
      },
      "outputs": [],
      "source": []
    },
    {
      "cell_type": "code",
      "execution_count": null,
      "metadata": {
        "id": "31Ps7xnkkBs2"
      },
      "outputs": [],
      "source": [
        "\n",
        "\n",
        "x_t = []\n",
        "y_t = []\n",
        "for files in daa:\n",
        "    image = tf.keras.preprocessing.image.load_img(files[0],color_mode = \"grayscale\",interpolation='nearest', \n",
        "                                                  target_size=(img_height, img_width))\n",
        "    input_arr = tf.keras.preprocessing.image.img_to_array(image)\n",
        "    x_t.append([input_arr])\n",
        "    y_t.append([files[1]])\n",
        "\n",
        "x_t_ = 0\n",
        "y_t_ = 0\n",
        "x_t_ = np.reshape(np.array(x_t, dtype='float32'),(len(x_t),img_height,img_width,1))\n",
        "y_t_ = np.array(y_t, dtype='float32')\n"
      ]
    },
    {
      "cell_type": "code",
      "execution_count": null,
      "metadata": {
        "colab": {
          "base_uri": "https://localhost:8080/",
          "height": 416
        },
        "id": "G7MulpC7UBAC",
        "outputId": "8f0530a1-f720-42ba-cb28-d63d7c513ee4"
      },
      "outputs": [
        {
          "ename": "ValueError",
          "evalue": "ignored",
          "output_type": "error",
          "traceback": [
            "\u001b[0;31m---------------------------------------------------------------------------\u001b[0m",
            "\u001b[0;31mValueError\u001b[0m                                Traceback (most recent call last)",
            "\u001b[0;32m<ipython-input-122-5c0bf3eae56c>\u001b[0m in \u001b[0;36m<module>\u001b[0;34m()\u001b[0m\n\u001b[1;32m      1\u001b[0m \u001b[0;32mfrom\u001b[0m \u001b[0mtensorflow\u001b[0m \u001b[0;32mimport\u001b[0m \u001b[0mkeras\u001b[0m\u001b[0;34m\u001b[0m\u001b[0;34m\u001b[0m\u001b[0m\n\u001b[1;32m      2\u001b[0m \u001b[0mmodel\u001b[0m \u001b[0;34m=\u001b[0m \u001b[0mtf\u001b[0m\u001b[0;34m.\u001b[0m\u001b[0mkeras\u001b[0m\u001b[0;34m.\u001b[0m\u001b[0mmodels\u001b[0m\u001b[0;34m.\u001b[0m\u001b[0mload_model\u001b[0m\u001b[0;34m(\u001b[0m\u001b[0;34m'/content/+f499.h5'\u001b[0m\u001b[0;34m)\u001b[0m\u001b[0;34m\u001b[0m\u001b[0;34m\u001b[0m\u001b[0m\n\u001b[0;32m----> 3\u001b[0;31m \u001b[0my_pred\u001b[0m \u001b[0;34m=\u001b[0m \u001b[0mmodel\u001b[0m\u001b[0;34m.\u001b[0m\u001b[0mpredict\u001b[0m\u001b[0;34m(\u001b[0m\u001b[0mx_t_\u001b[0m\u001b[0;34m)\u001b[0m\u001b[0;34m\u001b[0m\u001b[0;34m\u001b[0m\u001b[0m\n\u001b[0m\u001b[1;32m      4\u001b[0m \u001b[0;34m\u001b[0m\u001b[0m\n\u001b[1;32m      5\u001b[0m \u001b[0mconfusion_matrix\u001b[0m \u001b[0;34m=\u001b[0m \u001b[0msklearn\u001b[0m\u001b[0;34m.\u001b[0m\u001b[0mmetrics\u001b[0m\u001b[0;34m.\u001b[0m\u001b[0mconfusion_matrix\u001b[0m\u001b[0;34m(\u001b[0m\u001b[0my_t_\u001b[0m\u001b[0;34m,\u001b[0m \u001b[0mnp\u001b[0m\u001b[0;34m.\u001b[0m\u001b[0mrint\u001b[0m\u001b[0;34m(\u001b[0m\u001b[0my_pred\u001b[0m\u001b[0;34m)\u001b[0m\u001b[0;34m)\u001b[0m\u001b[0;34m\u001b[0m\u001b[0;34m\u001b[0m\u001b[0m\n",
            "\u001b[0;32m/usr/local/lib/python3.7/dist-packages/keras/utils/traceback_utils.py\u001b[0m in \u001b[0;36merror_handler\u001b[0;34m(*args, **kwargs)\u001b[0m\n\u001b[1;32m     65\u001b[0m     \u001b[0;32mexcept\u001b[0m \u001b[0mException\u001b[0m \u001b[0;32mas\u001b[0m \u001b[0me\u001b[0m\u001b[0;34m:\u001b[0m  \u001b[0;31m# pylint: disable=broad-except\u001b[0m\u001b[0;34m\u001b[0m\u001b[0;34m\u001b[0m\u001b[0m\n\u001b[1;32m     66\u001b[0m       \u001b[0mfiltered_tb\u001b[0m \u001b[0;34m=\u001b[0m \u001b[0m_process_traceback_frames\u001b[0m\u001b[0;34m(\u001b[0m\u001b[0me\u001b[0m\u001b[0;34m.\u001b[0m\u001b[0m__traceback__\u001b[0m\u001b[0;34m)\u001b[0m\u001b[0;34m\u001b[0m\u001b[0;34m\u001b[0m\u001b[0m\n\u001b[0;32m---> 67\u001b[0;31m       \u001b[0;32mraise\u001b[0m \u001b[0me\u001b[0m\u001b[0;34m.\u001b[0m\u001b[0mwith_traceback\u001b[0m\u001b[0;34m(\u001b[0m\u001b[0mfiltered_tb\u001b[0m\u001b[0;34m)\u001b[0m \u001b[0;32mfrom\u001b[0m \u001b[0;32mNone\u001b[0m\u001b[0;34m\u001b[0m\u001b[0;34m\u001b[0m\u001b[0m\n\u001b[0m\u001b[1;32m     68\u001b[0m     \u001b[0;32mfinally\u001b[0m\u001b[0;34m:\u001b[0m\u001b[0;34m\u001b[0m\u001b[0;34m\u001b[0m\u001b[0m\n\u001b[1;32m     69\u001b[0m       \u001b[0;32mdel\u001b[0m \u001b[0mfiltered_tb\u001b[0m\u001b[0;34m\u001b[0m\u001b[0;34m\u001b[0m\u001b[0m\n",
            "\u001b[0;32m/usr/local/lib/python3.7/dist-packages/keras/engine/training.py\u001b[0m in \u001b[0;36mpredict\u001b[0;34m(self, x, batch_size, verbose, steps, callbacks, max_queue_size, workers, use_multiprocessing)\u001b[0m\n\u001b[1;32m   1995\u001b[0m             \u001b[0mcallbacks\u001b[0m\u001b[0;34m.\u001b[0m\u001b[0mon_predict_batch_end\u001b[0m\u001b[0;34m(\u001b[0m\u001b[0mend_step\u001b[0m\u001b[0;34m,\u001b[0m \u001b[0;34m{\u001b[0m\u001b[0;34m'outputs'\u001b[0m\u001b[0;34m:\u001b[0m \u001b[0mbatch_outputs\u001b[0m\u001b[0;34m}\u001b[0m\u001b[0;34m)\u001b[0m\u001b[0;34m\u001b[0m\u001b[0;34m\u001b[0m\u001b[0m\n\u001b[1;32m   1996\u001b[0m       \u001b[0;32mif\u001b[0m \u001b[0mbatch_outputs\u001b[0m \u001b[0;32mis\u001b[0m \u001b[0;32mNone\u001b[0m\u001b[0;34m:\u001b[0m\u001b[0;34m\u001b[0m\u001b[0;34m\u001b[0m\u001b[0m\n\u001b[0;32m-> 1997\u001b[0;31m         raise ValueError('Unexpected result of `predict_function` '\n\u001b[0m\u001b[1;32m   1998\u001b[0m                          \u001b[0;34m'(Empty batch_outputs). Please use '\u001b[0m\u001b[0;34m\u001b[0m\u001b[0;34m\u001b[0m\u001b[0m\n\u001b[1;32m   1999\u001b[0m                          \u001b[0;34m'`Model.compile(..., run_eagerly=True)`, or '\u001b[0m\u001b[0;34m\u001b[0m\u001b[0;34m\u001b[0m\u001b[0m\n",
            "\u001b[0;31mValueError\u001b[0m: Unexpected result of `predict_function` (Empty batch_outputs). Please use `Model.compile(..., run_eagerly=True)`, or `tf.config.run_functions_eagerly(True)` for more information of where went wrong, or file a issue/bug to `tf.keras`."
          ]
        }
      ],
      "source": [
        "from tensorflow import keras\n",
        "model = tf.keras.models.load_model('/content/+f499.h5')\n",
        "y_pred = model.predict(x_t_)\n",
        "\n",
        "confusion_matrix = sklearn.metrics.confusion_matrix(y_t_, np.rint(y_pred))\n"
      ]
    },
    {
      "cell_type": "code",
      "execution_count": null,
      "metadata": {
        "colab": {
          "base_uri": "https://localhost:8080/"
        },
        "id": "klZ2iPzXUyEz",
        "outputId": "9abc414f-0e7f-46f9-bd17-c81a92a52bf9"
      },
      "outputs": [
        {
          "name": "stdout",
          "output_type": "stream",
          "text": [
            "[[244  18]\n",
            " [ 14 136]]\n"
          ]
        }
      ],
      "source": [
        "print(confusion_matrix)"
      ]
    },
    {
      "cell_type": "code",
      "execution_count": null,
      "metadata": {
        "colab": {
          "base_uri": "https://localhost:8080/"
        },
        "id": "AJq78BbwUyHL",
        "outputId": "9230016f-c8c8-4d64-cc78-a2b43bda2085"
      },
      "outputs": [
        {
          "name": "stdout",
          "output_type": "stream",
          "text": [
            "0.000000012\n"
          ]
        }
      ],
      "source": [
        "print(\"{:.9f}\".format(float(y_pred[8])))\n"
      ]
    },
    {
      "cell_type": "code",
      "execution_count": null,
      "metadata": {
        "id": "ZrKN0gS9UyMT"
      },
      "outputs": [],
      "source": [
        "test_pro['calc_prob'] = flat_list"
      ]
    },
    {
      "cell_type": "code",
      "execution_count": null,
      "metadata": {
        "id": "YzsXrTSIZ4Yl"
      },
      "outputs": [],
      "source": [
        "test_pro.to_csv('/content/t.csv',index=False)"
      ]
    },
    {
      "cell_type": "code",
      "execution_count": null,
      "metadata": {
        "id": "DNGbBBULgk2f"
      },
      "outputs": [],
      "source": []
    }
  ],
  "metadata": {
    "colab": {
      "collapsed_sections": [],
      "provenance": []
    },
    "kernelspec": {
      "display_name": "Python 3",
      "name": "python3"
    },
    "language_info": {
      "name": "python"
    }
  },
  "nbformat": 4,
  "nbformat_minor": 0
}